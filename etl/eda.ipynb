{
 "cells": [
  {
   "cell_type": "code",
   "execution_count": null,
   "id": "f8589549",
   "metadata": {
    "tags": [
     "parameters"
    ]
   },
   "outputs": [],
   "source": [
    "# declare a list tasks whose products you want to use as inputs\n",
    "upstream = None\n"
   ]
  },
  {
   "cell_type": "code",
   "execution_count": 1,
   "metadata": {},
   "outputs": [],
   "source": [
    "import pandas as pd\n",
    "import matplotlib.pyplot as plt"
   ]
  },
  {
   "cell_type": "code",
   "execution_count": 2,
   "metadata": {},
   "outputs": [
    {
     "data": {
      "text/html": [
       "<span style=\"None\">Found pyproject.toml from &#x27;C:\\Users\\magsa\\Desktop\\365_Data_Sience\\Project\\Movie recommendation system\\mini-projects\\movie-rec-system&#x27;</span>"
      ],
      "text/plain": [
       "Found pyproject.toml from 'C:\\Users\\magsa\\Desktop\\365_Data_Sience\\Project\\Movie recommendation system\\mini-projects\\movie-rec-system'"
      ]
     },
     "metadata": {},
     "output_type": "display_data"
    },
    {
     "data": {
      "text/html": [
       "<span style=\"None\">Settings changed:</span>"
      ],
      "text/plain": [
       "Settings changed:"
      ]
     },
     "metadata": {},
     "output_type": "display_data"
    },
    {
     "data": {
      "text/html": [
       "\n",
       "<table>\n",
       "    <thead>\n",
       "        <tr>\n",
       "            <th>Config</th>\n",
       "            <th>value</th>\n",
       "        </tr>\n",
       "    </thead>\n",
       "    <tbody>\n",
       "        <tr>\n",
       "            <td>autopandas</td>\n",
       "            <td>True</td>\n",
       "        </tr>\n",
       "        <tr>\n",
       "            <td>feedback</td>\n",
       "            <td>True</td>\n",
       "        </tr>\n",
       "        <tr>\n",
       "            <td>displaycon</td>\n",
       "            <td>False</td>\n",
       "        </tr>\n",
       "        <tr>\n",
       "            <td>named_parameters</td>\n",
       "            <td>True</td>\n",
       "        </tr>\n",
       "    </tbody>\n",
       "</table>"
      ],
      "text/plain": [
       "\n",
       "+------------------+-------+\n",
       "|      Config      | value |\n",
       "+------------------+-------+\n",
       "|    autopandas    |  True |\n",
       "|     feedback     |  True |\n",
       "|    displaycon    | False |\n",
       "| named_parameters |  True |\n",
       "+------------------+-------+"
      ]
     },
     "metadata": {},
     "output_type": "display_data"
    }
   ],
   "source": [
    "# Load the SQL magic extension\n",
    "%reload_ext sql\n",
    "# Set display limit\n",
    "%config SqlMagic.displaylimit = 20"
   ]
  },
  {
   "cell_type": "code",
   "execution_count": 3,
   "metadata": {},
   "outputs": [],
   "source": [
    "# Connect to the DuckDB\n",
    "%sql duckdb:///../movies_data.duckdb"
   ]
  },
  {
   "cell_type": "code",
   "execution_count": 4,
   "metadata": {},
   "outputs": [
    {
     "data": {
      "text/html": [
       "<div>\n",
       "<style scoped>\n",
       "    .dataframe tbody tr th:only-of-type {\n",
       "        vertical-align: middle;\n",
       "    }\n",
       "\n",
       "    .dataframe tbody tr th {\n",
       "        vertical-align: top;\n",
       "    }\n",
       "\n",
       "    .dataframe thead th {\n",
       "        text-align: right;\n",
       "    }\n",
       "</style>\n",
       "<table border=\"1\" class=\"dataframe\">\n",
       "  <thead>\n",
       "    <tr style=\"text-align: right;\">\n",
       "      <th></th>\n",
       "      <th>column_name</th>\n",
       "      <th>data_type</th>\n",
       "    </tr>\n",
       "  </thead>\n",
       "  <tbody>\n",
       "    <tr>\n",
       "      <th>0</th>\n",
       "      <td>adult</td>\n",
       "      <td>BOOLEAN</td>\n",
       "    </tr>\n",
       "    <tr>\n",
       "      <th>1</th>\n",
       "      <td>backdrop_path</td>\n",
       "      <td>VARCHAR</td>\n",
       "    </tr>\n",
       "    <tr>\n",
       "      <th>2</th>\n",
       "      <td>genre_ids</td>\n",
       "      <td>BIGINT[]</td>\n",
       "    </tr>\n",
       "    <tr>\n",
       "      <th>3</th>\n",
       "      <td>id</td>\n",
       "      <td>BIGINT</td>\n",
       "    </tr>\n",
       "    <tr>\n",
       "      <th>4</th>\n",
       "      <td>original_language</td>\n",
       "      <td>VARCHAR</td>\n",
       "    </tr>\n",
       "    <tr>\n",
       "      <th>5</th>\n",
       "      <td>original_title</td>\n",
       "      <td>VARCHAR</td>\n",
       "    </tr>\n",
       "    <tr>\n",
       "      <th>6</th>\n",
       "      <td>overview</td>\n",
       "      <td>VARCHAR</td>\n",
       "    </tr>\n",
       "    <tr>\n",
       "      <th>7</th>\n",
       "      <td>popularity</td>\n",
       "      <td>DOUBLE</td>\n",
       "    </tr>\n",
       "    <tr>\n",
       "      <th>8</th>\n",
       "      <td>poster_path</td>\n",
       "      <td>VARCHAR</td>\n",
       "    </tr>\n",
       "    <tr>\n",
       "      <th>9</th>\n",
       "      <td>release_date</td>\n",
       "      <td>DATE</td>\n",
       "    </tr>\n",
       "    <tr>\n",
       "      <th>10</th>\n",
       "      <td>title</td>\n",
       "      <td>VARCHAR</td>\n",
       "    </tr>\n",
       "    <tr>\n",
       "      <th>11</th>\n",
       "      <td>video</td>\n",
       "      <td>BOOLEAN</td>\n",
       "    </tr>\n",
       "    <tr>\n",
       "      <th>12</th>\n",
       "      <td>vote_average</td>\n",
       "      <td>DOUBLE</td>\n",
       "    </tr>\n",
       "    <tr>\n",
       "      <th>13</th>\n",
       "      <td>vote_count</td>\n",
       "      <td>BIGINT</td>\n",
       "    </tr>\n",
       "  </tbody>\n",
       "</table>\n",
       "</div>"
      ],
      "text/plain": [
       "          column_name data_type\n",
       "0               adult   BOOLEAN\n",
       "1       backdrop_path   VARCHAR\n",
       "2           genre_ids  BIGINT[]\n",
       "3                  id    BIGINT\n",
       "4   original_language   VARCHAR\n",
       "5      original_title   VARCHAR\n",
       "6            overview   VARCHAR\n",
       "7          popularity    DOUBLE\n",
       "8         poster_path   VARCHAR\n",
       "9        release_date      DATE\n",
       "10              title   VARCHAR\n",
       "11              video   BOOLEAN\n",
       "12       vote_average    DOUBLE\n",
       "13         vote_count    BIGINT"
      ]
     },
     "execution_count": 4,
     "metadata": {},
     "output_type": "execute_result"
    }
   ],
   "source": [
    "%%sql\n",
    "SELECT column_name, data_type \n",
    "FROM information_schema.columns \n",
    "WHERE table_name = 'movies';\n"
   ]
  },
  {
   "cell_type": "code",
   "execution_count": 5,
   "metadata": {},
   "outputs": [
    {
     "data": {
      "text/html": [
       "<div>\n",
       "<style scoped>\n",
       "    .dataframe tbody tr th:only-of-type {\n",
       "        vertical-align: middle;\n",
       "    }\n",
       "\n",
       "    .dataframe tbody tr th {\n",
       "        vertical-align: top;\n",
       "    }\n",
       "\n",
       "    .dataframe thead th {\n",
       "        text-align: right;\n",
       "    }\n",
       "</style>\n",
       "<table border=\"1\" class=\"dataframe\">\n",
       "  <thead>\n",
       "    <tr style=\"text-align: right;\">\n",
       "      <th></th>\n",
       "      <th>column_name</th>\n",
       "      <th>data_type</th>\n",
       "    </tr>\n",
       "  </thead>\n",
       "  <tbody>\n",
       "    <tr>\n",
       "      <th>0</th>\n",
       "      <td>id</td>\n",
       "      <td>BIGINT</td>\n",
       "    </tr>\n",
       "    <tr>\n",
       "      <th>1</th>\n",
       "      <td>name</td>\n",
       "      <td>VARCHAR</td>\n",
       "    </tr>\n",
       "  </tbody>\n",
       "</table>\n",
       "</div>"
      ],
      "text/plain": [
       "  column_name data_type\n",
       "0          id    BIGINT\n",
       "1        name   VARCHAR"
      ]
     },
     "execution_count": 5,
     "metadata": {},
     "output_type": "execute_result"
    }
   ],
   "source": [
    "%%sql\n",
    "SELECT column_name, data_type \n",
    "FROM information_schema.columns \n",
    "WHERE table_name = 'genres';"
   ]
  },
  {
   "cell_type": "code",
   "execution_count": 6,
   "metadata": {},
   "outputs": [
    {
     "data": {
      "text/html": [
       "<div>\n",
       "<style scoped>\n",
       "    .dataframe tbody tr th:only-of-type {\n",
       "        vertical-align: middle;\n",
       "    }\n",
       "\n",
       "    .dataframe tbody tr th {\n",
       "        vertical-align: top;\n",
       "    }\n",
       "\n",
       "    .dataframe thead th {\n",
       "        text-align: right;\n",
       "    }\n",
       "</style>\n",
       "<table border=\"1\" class=\"dataframe\">\n",
       "  <thead>\n",
       "    <tr style=\"text-align: right;\">\n",
       "      <th></th>\n",
       "      <th>Success</th>\n",
       "    </tr>\n",
       "  </thead>\n",
       "  <tbody>\n",
       "  </tbody>\n",
       "</table>\n",
       "</div>"
      ],
      "text/plain": [
       "Empty DataFrame\n",
       "Columns: [Success]\n",
       "Index: []"
      ]
     },
     "execution_count": 6,
     "metadata": {},
     "output_type": "execute_result"
    }
   ],
   "source": [
    "%%sql\n",
    "-- # Change the data type from BIGINT to INT\n",
    "ALTER TABLE movies ALTER COLUMN id TYPE INT;\n",
    "ALTER TABLE movies ALTER COLUMN vote_count TYPE INT;\n",
    "ALTER TABLE movies ALTER COLUMN genre_ids TYPE INT[];\n",
    "ALTER TABLE genres ALTER COLUMN id TYPE INT;"
   ]
  },
  {
   "cell_type": "code",
   "execution_count": 7,
   "metadata": {},
   "outputs": [
    {
     "data": {
      "text/html": [
       "<div>\n",
       "<style scoped>\n",
       "    .dataframe tbody tr th:only-of-type {\n",
       "        vertical-align: middle;\n",
       "    }\n",
       "\n",
       "    .dataframe tbody tr th {\n",
       "        vertical-align: top;\n",
       "    }\n",
       "\n",
       "    .dataframe thead th {\n",
       "        text-align: right;\n",
       "    }\n",
       "</style>\n",
       "<table border=\"1\" class=\"dataframe\">\n",
       "  <thead>\n",
       "    <tr style=\"text-align: right;\">\n",
       "      <th></th>\n",
       "      <th>Success</th>\n",
       "    </tr>\n",
       "  </thead>\n",
       "  <tbody>\n",
       "  </tbody>\n",
       "</table>\n",
       "</div>"
      ],
      "text/plain": [
       "Empty DataFrame\n",
       "Columns: [Success]\n",
       "Index: []"
      ]
     },
     "execution_count": 7,
     "metadata": {},
     "output_type": "execute_result"
    }
   ],
   "source": [
    "%%sql\n",
    "-- # Drop columns ending with _path\n",
    "ALTER TABLE movies DROP COLUMN backdrop_path;\n",
    "ALTER TABLE movies DROP COLUMN poster_path;"
   ]
  },
  {
   "cell_type": "code",
   "execution_count": 8,
   "metadata": {},
   "outputs": [
    {
     "data": {
      "text/html": [
       "<div>\n",
       "<style scoped>\n",
       "    .dataframe tbody tr th:only-of-type {\n",
       "        vertical-align: middle;\n",
       "    }\n",
       "\n",
       "    .dataframe tbody tr th {\n",
       "        vertical-align: top;\n",
       "    }\n",
       "\n",
       "    .dataframe thead th {\n",
       "        text-align: right;\n",
       "    }\n",
       "</style>\n",
       "<table border=\"1\" class=\"dataframe\">\n",
       "  <thead>\n",
       "    <tr style=\"text-align: right;\">\n",
       "      <th></th>\n",
       "      <th>adult</th>\n",
       "      <th>genre_ids</th>\n",
       "      <th>id</th>\n",
       "      <th>original_language</th>\n",
       "      <th>original_title</th>\n",
       "      <th>overview</th>\n",
       "      <th>popularity</th>\n",
       "      <th>release_date</th>\n",
       "      <th>title</th>\n",
       "      <th>video</th>\n",
       "      <th>vote_average</th>\n",
       "      <th>vote_count</th>\n",
       "    </tr>\n",
       "  </thead>\n",
       "  <tbody>\n",
       "    <tr>\n",
       "      <th>0</th>\n",
       "      <td>False</td>\n",
       "      <td>[27, 53]</td>\n",
       "      <td>1008042</td>\n",
       "      <td>en</td>\n",
       "      <td>Talk to Me</td>\n",
       "      <td>When a group of friends discover how to conjur...</td>\n",
       "      <td>2019.964</td>\n",
       "      <td>2023-07-26</td>\n",
       "      <td>Talk to Me</td>\n",
       "      <td>False</td>\n",
       "      <td>7.2</td>\n",
       "      <td>712</td>\n",
       "    </tr>\n",
       "    <tr>\n",
       "      <th>1</th>\n",
       "      <td>False</td>\n",
       "      <td>[28, 80, 53]</td>\n",
       "      <td>385687</td>\n",
       "      <td>en</td>\n",
       "      <td>Fast X</td>\n",
       "      <td>Over many missions and against impossible odds...</td>\n",
       "      <td>1871.860</td>\n",
       "      <td>2023-05-17</td>\n",
       "      <td>Fast X</td>\n",
       "      <td>False</td>\n",
       "      <td>7.3</td>\n",
       "      <td>3759</td>\n",
       "    </tr>\n",
       "  </tbody>\n",
       "</table>\n",
       "</div>"
      ],
      "text/plain": [
       "   adult     genre_ids       id original_language original_title  \\\n",
       "0  False      [27, 53]  1008042                en     Talk to Me   \n",
       "1  False  [28, 80, 53]   385687                en         Fast X   \n",
       "\n",
       "                                            overview  popularity release_date  \\\n",
       "0  When a group of friends discover how to conjur...    2019.964   2023-07-26   \n",
       "1  Over many missions and against impossible odds...    1871.860   2023-05-17   \n",
       "\n",
       "        title  video  vote_average  vote_count  \n",
       "0  Talk to Me  False           7.2         712  \n",
       "1      Fast X  False           7.3        3759  "
      ]
     },
     "execution_count": 8,
     "metadata": {},
     "output_type": "execute_result"
    }
   ],
   "source": [
    "%%sql \n",
    "SELECT *\n",
    "FROM movies\n",
    "LIMIT 2;"
   ]
  },
  {
   "cell_type": "code",
   "execution_count": 9,
   "metadata": {},
   "outputs": [
    {
     "data": {
      "text/html": [
       "<div>\n",
       "<style scoped>\n",
       "    .dataframe tbody tr th:only-of-type {\n",
       "        vertical-align: middle;\n",
       "    }\n",
       "\n",
       "    .dataframe tbody tr th {\n",
       "        vertical-align: top;\n",
       "    }\n",
       "\n",
       "    .dataframe thead th {\n",
       "        text-align: right;\n",
       "    }\n",
       "</style>\n",
       "<table border=\"1\" class=\"dataframe\">\n",
       "  <thead>\n",
       "    <tr style=\"text-align: right;\">\n",
       "      <th></th>\n",
       "      <th>id</th>\n",
       "      <th>name</th>\n",
       "    </tr>\n",
       "  </thead>\n",
       "  <tbody>\n",
       "    <tr>\n",
       "      <th>0</th>\n",
       "      <td>28</td>\n",
       "      <td>Action</td>\n",
       "    </tr>\n",
       "    <tr>\n",
       "      <th>1</th>\n",
       "      <td>12</td>\n",
       "      <td>Adventure</td>\n",
       "    </tr>\n",
       "  </tbody>\n",
       "</table>\n",
       "</div>"
      ],
      "text/plain": [
       "   id       name\n",
       "0  28     Action\n",
       "1  12  Adventure"
      ]
     },
     "execution_count": 9,
     "metadata": {},
     "output_type": "execute_result"
    }
   ],
   "source": [
    "%%sql \n",
    "SELECT *\n",
    "FROM genres\n",
    "LIMIT 2;"
   ]
  },
  {
   "cell_type": "code",
   "execution_count": 10,
   "metadata": {},
   "outputs": [
    {
     "data": {
      "text/html": [
       "<div>\n",
       "<style scoped>\n",
       "    .dataframe tbody tr th:only-of-type {\n",
       "        vertical-align: middle;\n",
       "    }\n",
       "\n",
       "    .dataframe tbody tr th {\n",
       "        vertical-align: top;\n",
       "    }\n",
       "\n",
       "    .dataframe thead th {\n",
       "        text-align: right;\n",
       "    }\n",
       "</style>\n",
       "<table border=\"1\" class=\"dataframe\">\n",
       "  <thead>\n",
       "    <tr style=\"text-align: right;\">\n",
       "      <th></th>\n",
       "      <th>movie_id</th>\n",
       "      <th>genre_names</th>\n",
       "    </tr>\n",
       "  </thead>\n",
       "  <tbody>\n",
       "    <tr>\n",
       "      <th>0</th>\n",
       "      <td>1008042</td>\n",
       "      <td>Horror, Thriller</td>\n",
       "    </tr>\n",
       "    <tr>\n",
       "      <th>1</th>\n",
       "      <td>385687</td>\n",
       "      <td>Action, Crime, Thriller</td>\n",
       "    </tr>\n",
       "    <tr>\n",
       "      <th>2</th>\n",
       "      <td>615656</td>\n",
       "      <td>Action, Science Fiction, Horror</td>\n",
       "    </tr>\n",
       "    <tr>\n",
       "      <th>3</th>\n",
       "      <td>346698</td>\n",
       "      <td>Comedy, Adventure, Fantasy</td>\n",
       "    </tr>\n",
       "    <tr>\n",
       "      <th>4</th>\n",
       "      <td>565770</td>\n",
       "      <td>Action, Science Fiction, Adventure</td>\n",
       "    </tr>\n",
       "    <tr>\n",
       "      <th>...</th>\n",
       "      <td>...</td>\n",
       "      <td>...</td>\n",
       "    </tr>\n",
       "    <tr>\n",
       "      <th>993</th>\n",
       "      <td>257344</td>\n",
       "      <td>Action, Comedy, Science Fiction</td>\n",
       "    </tr>\n",
       "    <tr>\n",
       "      <th>994</th>\n",
       "      <td>1003581</td>\n",
       "      <td>Animation, Action, Science Fiction, Adventure</td>\n",
       "    </tr>\n",
       "    <tr>\n",
       "      <th>995</th>\n",
       "      <td>10195</td>\n",
       "      <td>Adventure, Fantasy, Action</td>\n",
       "    </tr>\n",
       "    <tr>\n",
       "      <th>996</th>\n",
       "      <td>59440</td>\n",
       "      <td>Drama, Action</td>\n",
       "    </tr>\n",
       "    <tr>\n",
       "      <th>997</th>\n",
       "      <td>273481</td>\n",
       "      <td>Action, Crime, Thriller</td>\n",
       "    </tr>\n",
       "  </tbody>\n",
       "</table>\n",
       "<p>998 rows × 2 columns</p>\n",
       "</div>"
      ],
      "text/plain": [
       "     movie_id                                    genre_names\n",
       "0     1008042                               Horror, Thriller\n",
       "1      385687                        Action, Crime, Thriller\n",
       "2      615656                Action, Science Fiction, Horror\n",
       "3      346698                     Comedy, Adventure, Fantasy\n",
       "4      565770             Action, Science Fiction, Adventure\n",
       "..        ...                                            ...\n",
       "993    257344                Action, Comedy, Science Fiction\n",
       "994   1003581  Animation, Action, Science Fiction, Adventure\n",
       "995     10195                     Adventure, Fantasy, Action\n",
       "996     59440                                  Drama, Action\n",
       "997    273481                        Action, Crime, Thriller\n",
       "\n",
       "[998 rows x 2 columns]"
      ]
     },
     "execution_count": 10,
     "metadata": {},
     "output_type": "execute_result"
    }
   ],
   "source": [
    "%%sql \n",
    "WITH ExpandedGenres AS (\n",
    "    SELECT \n",
    "        m.id AS movie_id,\n",
    "        mg.movie_genre_id,\n",
    "        g.name AS genre_name\n",
    "    FROM \n",
    "        (SELECT UNNEST(movies.genre_ids) as movie_genre_id, movies.id FROM movies) AS mg\n",
    "    JOIN \n",
    "        movies m ON mg.id = m.id\n",
    "    JOIN \n",
    "        genres g ON mg.movie_genre_id = g.id\n",
    ")\n",
    "\n",
    "SELECT\n",
    "    movie_id,\n",
    "    STRING_AGG(genre_name, ', ') AS genre_names\n",
    "FROM \n",
    "    ExpandedGenres\n",
    "GROUP BY \n",
    "    movie_id;"
   ]
  },
  {
   "cell_type": "code",
   "execution_count": 11,
   "metadata": {},
   "outputs": [
    {
     "data": {
      "text/html": [
       "<div>\n",
       "<style scoped>\n",
       "    .dataframe tbody tr th:only-of-type {\n",
       "        vertical-align: middle;\n",
       "    }\n",
       "\n",
       "    .dataframe tbody tr th {\n",
       "        vertical-align: top;\n",
       "    }\n",
       "\n",
       "    .dataframe thead th {\n",
       "        text-align: right;\n",
       "    }\n",
       "</style>\n",
       "<table border=\"1\" class=\"dataframe\">\n",
       "  <thead>\n",
       "    <tr style=\"text-align: right;\">\n",
       "      <th></th>\n",
       "      <th>Success</th>\n",
       "    </tr>\n",
       "  </thead>\n",
       "  <tbody>\n",
       "  </tbody>\n",
       "</table>\n",
       "</div>"
      ],
      "text/plain": [
       "Empty DataFrame\n",
       "Columns: [Success]\n",
       "Index: []"
      ]
     },
     "execution_count": 11,
     "metadata": {},
     "output_type": "execute_result"
    }
   ],
   "source": [
    "%%sql --no-execute\n",
    "CREATE TABLE IF NOT EXISTS movie_genre_data AS\n",
    "WITH ExpandedGenres AS (\n",
    "    SELECT \n",
    "        m.id AS movie_id,\n",
    "        mg.movie_genre_id,\n",
    "        g.name AS genre_name\n",
    "    FROM \n",
    "        (SELECT UNNEST(movies.genre_ids) as movie_genre_id, movies.id FROM movies) AS mg\n",
    "    JOIN \n",
    "        movies m ON mg.id = m.id\n",
    "    JOIN \n",
    "        genres g ON mg.movie_genre_id = g.id\n",
    "),\n",
    "genre_names AS (\n",
    "    SELECT\n",
    "    movie_id,\n",
    "    STRING_AGG(genre_name, ', ') AS genre_names\n",
    "FROM \n",
    "    ExpandedGenres\n",
    "GROUP BY \n",
    "    movie_id\n",
    ")\n",
    "SELECT gn.genre_names, m.id, m.original_language,\n",
    "       m.overview, m.popularity, m.release_date,\n",
    "       m.title, m.vote_average, m.vote_count\n",
    "FROM genre_names gn\n",
    "JOIN movies m\n",
    "ON gn.movie_id = m.id\n",
    "WHERE m.vote_count != 0"
   ]
  },
  {
   "cell_type": "code",
   "execution_count": 12,
   "metadata": {},
   "outputs": [
    {
     "data": {
      "text/html": [
       "<div>\n",
       "<style scoped>\n",
       "    .dataframe tbody tr th:only-of-type {\n",
       "        vertical-align: middle;\n",
       "    }\n",
       "\n",
       "    .dataframe tbody tr th {\n",
       "        vertical-align: top;\n",
       "    }\n",
       "\n",
       "    .dataframe thead th {\n",
       "        text-align: right;\n",
       "    }\n",
       "</style>\n",
       "<table border=\"1\" class=\"dataframe\">\n",
       "  <thead>\n",
       "    <tr style=\"text-align: right;\">\n",
       "      <th></th>\n",
       "      <th>genre_names</th>\n",
       "      <th>id</th>\n",
       "      <th>original_language</th>\n",
       "      <th>overview</th>\n",
       "      <th>popularity</th>\n",
       "      <th>release_date</th>\n",
       "      <th>title</th>\n",
       "      <th>vote_average</th>\n",
       "      <th>vote_count</th>\n",
       "    </tr>\n",
       "  </thead>\n",
       "  <tbody>\n",
       "    <tr>\n",
       "      <th>0</th>\n",
       "      <td>Horror, Thriller</td>\n",
       "      <td>1008042</td>\n",
       "      <td>en</td>\n",
       "      <td>When a group of friends discover how to conjur...</td>\n",
       "      <td>2019.964</td>\n",
       "      <td>2023-07-26</td>\n",
       "      <td>Talk to Me</td>\n",
       "      <td>7.2</td>\n",
       "      <td>712</td>\n",
       "    </tr>\n",
       "    <tr>\n",
       "      <th>1</th>\n",
       "      <td>Action, Crime, Thriller</td>\n",
       "      <td>385687</td>\n",
       "      <td>en</td>\n",
       "      <td>Over many missions and against impossible odds...</td>\n",
       "      <td>1871.860</td>\n",
       "      <td>2023-05-17</td>\n",
       "      <td>Fast X</td>\n",
       "      <td>7.3</td>\n",
       "      <td>3759</td>\n",
       "    </tr>\n",
       "  </tbody>\n",
       "</table>\n",
       "</div>"
      ],
      "text/plain": [
       "               genre_names       id original_language  \\\n",
       "0         Horror, Thriller  1008042                en   \n",
       "1  Action, Crime, Thriller   385687                en   \n",
       "\n",
       "                                            overview  popularity release_date  \\\n",
       "0  When a group of friends discover how to conjur...    2019.964   2023-07-26   \n",
       "1  Over many missions and against impossible odds...    1871.860   2023-05-17   \n",
       "\n",
       "        title  vote_average  vote_count  \n",
       "0  Talk to Me           7.2         712  \n",
       "1      Fast X           7.3        3759  "
      ]
     },
     "execution_count": 12,
     "metadata": {},
     "output_type": "execute_result"
    }
   ],
   "source": [
    "%%sql\n",
    "SELECT *\n",
    "FROM movie_genre_data\n",
    "LIMIT 2;"
   ]
  },
  {
   "cell_type": "markdown",
   "metadata": {},
   "source": [
    "### What are the most popular genres? "
   ]
  },
  {
   "cell_type": "code",
   "execution_count": 21,
   "metadata": {},
   "outputs": [
    {
     "data": {
      "text/html": [
       "<span style=\"None\">Skipping execution...</span>"
      ],
      "text/plain": [
       "Skipping execution..."
      ]
     },
     "metadata": {},
     "output_type": "display_data"
    }
   ],
   "source": [
    "%%sql --save genre_pop --no-execute\n",
    "WITH ExpandedGenres AS (\n",
    "    SELECT \n",
    "        m.id AS movie_id,\n",
    "        mg.movie_genre_id,\n",
    "        g.name AS genre_name\n",
    "    FROM \n",
    "        (SELECT UNNEST(movies.genre_ids) as movie_genre_id, movies.id FROM movies) AS mg\n",
    "    JOIN \n",
    "        movies m ON mg.id = m.id\n",
    "    JOIN \n",
    "        genres g ON mg.movie_genre_id = g.id\n",
    ")\n",
    "SELECT\n",
    "genre_name, \n",
    "SUM(m.popularity) AS genre_popularity\n",
    "FROM ExpandedGenres\n",
    "JOIN movies m\n",
    "ON ExpandedGenres.movie_id = m.id\n",
    "GROUP BY genre_name\n",
    "ORDER BY genre_popularity DESC;\n"
   ]
  },
  {
   "cell_type": "code",
   "execution_count": 22,
   "metadata": {},
   "outputs": [
    {
     "data": {
      "text/html": [
       "<span style=\"None\">Removing NULLs, if there exists any from genre_name and genre_popularity</span>"
      ],
      "text/plain": [
       "Removing NULLs, if there exists any from genre_name and genre_popularity"
      ]
     },
     "metadata": {},
     "output_type": "display_data"
    },
    {
     "data": {
      "text/plain": [
       "<AxesSubplot: title={'center': 'genre_pop'}, xlabel='genre_popularity', ylabel='genre_name'>"
      ]
     },
     "execution_count": 22,
     "metadata": {},
     "output_type": "execute_result"
    },
    {
     "data": {
      "image/png": "[encoded data removed]",
      "text/plain": [
       "<Figure size 640x480 with 1 Axes>"
      ]
     },
     "metadata": {},
     "output_type": "display_data"
    }
   ],
   "source": [
    "%sqlplot bar --table genre_pop --column genre_name genre_popularity --orient h"
   ]
  },
  {
   "cell_type": "markdown",
   "metadata": {},
   "source": [
    "### What are the most popular movies?"
   ]
  },
  {
   "cell_type": "code",
   "execution_count": 15,
   "metadata": {},
   "outputs": [
    {
     "data": {
      "text/html": [
       "<span style=\"None\">Skipping execution...</span>"
      ],
      "text/plain": [
       "Skipping execution..."
      ]
     },
     "metadata": {},
     "output_type": "display_data"
    }
   ],
   "source": [
    "%%sql --save top10 --no-execute\n",
    "SELECT title, popularity\n",
    "FROM movies\n",
    "ORDER BY popularity DESC\n",
    "LIMIT 10;"
   ]
  },
  {
   "cell_type": "code",
   "execution_count": 16,
   "metadata": {},
   "outputs": [
    {
     "data": {
      "text/html": [
       "<span style=\"None\">Removing NULLs, if there exists any from title and popularity</span>"
      ],
      "text/plain": [
       "Removing NULLs, if there exists any from title and popularity"
      ]
     },
     "metadata": {},
     "output_type": "display_data"
    },
    {
     "data": {
      "text/plain": [
       "<AxesSubplot: title={'center': 'top10'}, xlabel='popularity', ylabel='title'>"
      ]
     },
     "execution_count": 16,
     "metadata": {},
     "output_type": "execute_result"
    },
    {
     "data": {
      "image/png": "[encoded data removed]",
      "text/plain": [
       "<Figure size 640x480 with 1 Axes>"
      ]
     },
     "metadata": {},
     "output_type": "display_data"
    }
   ],
   "source": [
    "%sqlplot bar --table top10 --column title popularity --orient h"
   ]
  },
  {
   "cell_type": "markdown",
   "metadata": {},
   "source": [
    "### What are the most popular movies by genre?"
   ]
  },
  {
   "cell_type": "code",
   "execution_count": 17,
   "metadata": {},
   "outputs": [
    {
     "data": {
      "text/html": [
       "<span style=\"None\">Skipping execution...</span>"
      ],
      "text/plain": [
       "Skipping execution..."
      ]
     },
     "metadata": {},
     "output_type": "display_data"
    }
   ],
   "source": [
    "%%sql --save top10_genre --no-execute\n",
    "WITH ExpandedGenres AS (\n",
    "    SELECT \n",
    "        m.id AS movie_id,\n",
    "        mg.movie_genre_id,\n",
    "        g.name AS genre_name\n",
    "    FROM \n",
    "        (SELECT UNNEST(movies.genre_ids) as movie_genre_id, movies.id FROM movies) AS mg\n",
    "    JOIN \n",
    "        movies m ON mg.id = m.id\n",
    "    JOIN \n",
    "        genres g ON mg.movie_genre_id = g.id\n",
    "),\n",
    "RankedMovies AS (\n",
    "    SELECT \n",
    "        m.title,\n",
    "        eg.genre_name,\n",
    "        m.popularity,\n",
    "        ROW_NUMBER() OVER (PARTITION BY eg.genre_name ORDER BY m.popularity DESC) AS rn\n",
    "    FROM movies m\n",
    "    JOIN ExpandedGenres eg ON m.id = eg.movie_id\n",
    ")\n",
    "SELECT \n",
    "    title, \n",
    "    genre_name, \n",
    "    popularity\n",
    "FROM RankedMovies\n",
    "WHERE rn = 1\n",
    "ORDER BY popularity DESC\n",
    "LIMIT 10;\n"
   ]
  },
  {
   "cell_type": "code",
   "execution_count": 18,
   "metadata": {},
   "outputs": [
    {
     "data": {
      "text/html": [
       "<span style=\"None\">Generating CTE with stored snippets: &#x27;top10_genre&#x27;</span>"
      ],
      "text/plain": [
       "Generating CTE with stored snippets: 'top10_genre'"
      ]
     },
     "metadata": {},
     "output_type": "display_data"
    },
    {
     "data": {
      "image/png": "[encoded data removed]",
      "text/plain": [
       "<Figure size 640x480 with 1 Axes>"
      ]
     },
     "metadata": {},
     "output_type": "display_data"
    }
   ],
   "source": [
    "result = %sql SELECT * FROM top10_genre\n",
    "import seaborn as sns\n",
    "import matplotlib.pyplot as plt\n",
    "\n",
    "# Assuming top10_genre is the DataFrame saved from your SQL query\n",
    "sns.barplot(data=result, x='popularity', y='title', hue='genre_name', orient='h')\n",
    "plt.title('Top 10 Popular Movies by Genre')\n",
    "plt.legend(title='Genre Name', bbox_to_anchor=(1.05, 1), loc='upper left')\n",
    "plt.show()"
   ]
  },
  {
   "cell_type": "markdown",
   "metadata": {},
   "source": [
    " ### What are the most popular movies by decade?"
   ]
  },
  {
   "cell_type": "code",
   "execution_count": 19,
   "metadata": {},
   "outputs": [
    {
     "data": {
      "text/html": [
       "<span style=\"None\">Skipping execution...</span>"
      ],
      "text/plain": [
       "Skipping execution..."
      ]
     },
     "metadata": {},
     "output_type": "display_data"
    }
   ],
   "source": [
    "%%sql --save top_decade --no-execute\n",
    "WITH RankedMovies AS (\n",
    "    SELECT \n",
    "        FLOOR(YEAR(release_date) / 10) * 10 AS decade,\n",
    "        title,\n",
    "        popularity,\n",
    "        RANK() OVER (PARTITION BY FLOOR(YEAR(release_date) / 10) * 10 ORDER BY popularity DESC) AS rank_in_decade\n",
    "    FROM movie_genre_data\n",
    ")\n",
    "SELECT \n",
    "    decade,\n",
    "    title,\n",
    "    popularity,\n",
    "    rank_in_decade\n",
    "FROM RankedMovies\n",
    "WHERE rank_in_decade <= 2  -- adjust this to get the top N movies in each decade\n",
    "ORDER BY decade, rank_in_decade;\n",
    "\n"
   ]
  },
  {
   "cell_type": "code",
   "execution_count": 20,
   "metadata": {},
   "outputs": [
    {
     "data": {
      "text/html": [
       "<span style=\"None\">Generating CTE with stored snippets: &#x27;top_decade&#x27;</span>"
      ],
      "text/plain": [
       "Generating CTE with stored snippets: 'top_decade'"
      ]
     },
     "metadata": {},
     "output_type": "display_data"
    },
    {
     "data": {
      "image/png": "[encoded data removed]",
      "text/plain": [
       "<Figure size 1500x800 with 1 Axes>"
      ]
     },
     "metadata": {},
     "output_type": "display_data"
    }
   ],
   "source": [
    "result = %sql SELECT * FROM top_decade\n",
    "import seaborn as sns\n",
    "import matplotlib.pyplot as plt\n",
    "\n",
    "# let us plot the top 2 movies in each decade by popularity putting them side by side in a bar chart, with no hue\n",
    "plt.figure(figsize=(15, 8))\n",
    "sns.barplot(data=result, x='decade', y='popularity',hue='title', orient='v')\n",
    "plt.yscale('log')  # log scale for better visualization\n",
    "plt.title('Top 2 Movies in Each Decade by Popularity')\n",
    "plt.legend(title='Movie Title', bbox_to_anchor=(1.05, 1), loc='upper left')\n",
    "plt.show()\n",
    "\n"
   ]
  }
 ],
 "metadata": {
  "kernelspec": {
   "display_name": "poetry-env",
   "language": "python",
   "name": "python3"
  },
  "language_info": {
   "codemirror_mode": {
    "name": "ipython",
    "version": 3
   },
   "file_extension": ".py",
   "mimetype": "text/x-python",
   "name": "python",
   "nbconvert_exporter": "python",
   "pygments_lexer": "ipython3",
   "version": "3.10.12"
  }
 },
 "nbformat": 4,
 "nbformat_minor": 2
}
