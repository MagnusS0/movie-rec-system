{
 "cells": [
  {
   "cell_type": "code",
   "execution_count": 1,
   "id": "4d719f68",
   "metadata": {
    "execution": {
     "iopub.execute_input": "2023-09-19T23:02:55.079646Z",
     "iopub.status.busy": "2023-09-19T23:02:55.079646Z",
     "iopub.status.idle": "2023-09-19T23:02:55.095464Z",
     "shell.execute_reply": "2023-09-19T23:02:55.095464Z"
    },
    "papermill": {
     "duration": 0.015818,
     "end_time": "2023-09-19T23:02:55.095464",
     "exception": false,
     "start_time": "2023-09-19T23:02:55.079646",
     "status": "completed"
    },
    "tags": [
     "parameters"
    ]
   },
   "outputs": [],
   "source": [
    "# declare a list tasks whose products you want to use as inputs\n",
    "upstream = None\n"
   ]
  },
  {
   "cell_type": "code",
   "execution_count": 2,
   "id": "6cbc1b4a",
   "metadata": {
    "execution": {
     "iopub.execute_input": "2023-09-19T23:02:55.095464Z",
     "iopub.status.busy": "2023-09-19T23:02:55.095464Z",
     "iopub.status.idle": "2023-09-19T23:02:55.111250Z",
     "shell.execute_reply": "2023-09-19T23:02:55.111250Z"
    },
    "papermill": {
     "duration": 0.015786,
     "end_time": "2023-09-19T23:02:55.111250",
     "exception": false,
     "start_time": "2023-09-19T23:02:55.095464",
     "status": "completed"
    },
    "tags": [
     "injected-parameters"
    ]
   },
   "outputs": [],
   "source": [
    "# Parameters\n",
    "product = {\"nb\": \"C:\\\\Users\\\\magsa\\\\Desktop\\\\365_Data_Sience\\\\Project\\\\Movie recommendation system\\\\mini-projects\\\\movie-rec-system\\\\products\\\\extract-pipeline.ipynb\", \"data\": \"C:\\\\Users\\\\magsa\\\\Desktop\\\\365_Data_Sience\\\\Project\\\\Movie recommendation system\\\\mini-projects\\\\movie-rec-system\\\\movies_data.duckdb\"}\n"
   ]
  },
  {
   "cell_type": "code",
   "execution_count": 3,
   "id": "58af23aa",
   "metadata": {
    "execution": {
     "iopub.execute_input": "2023-09-19T23:02:55.111250Z",
     "iopub.status.busy": "2023-09-19T23:02:55.111250Z",
     "iopub.status.idle": "2023-09-19T23:02:55.250476Z",
     "shell.execute_reply": "2023-09-19T23:02:55.250476Z"
    },
    "papermill": {
     "duration": 0.139226,
     "end_time": "2023-09-19T23:02:55.250476",
     "exception": false,
     "start_time": "2023-09-19T23:02:55.111250",
     "status": "completed"
    },
    "tags": []
   },
   "outputs": [],
   "source": [
    "import requests\n",
    "from dotenv import load_dotenv\n",
    "import json\n",
    "import tempfile\n",
    "import duckdb\n",
    "import os\n",
    "import logging"
   ]
  },
  {
   "cell_type": "code",
   "execution_count": 4,
   "id": "71227de3",
   "metadata": {
    "execution": {
     "iopub.execute_input": "2023-09-19T23:02:55.250476Z",
     "iopub.status.busy": "2023-09-19T23:02:55.250476Z",
     "iopub.status.idle": "2023-09-19T23:02:55.266133Z",
     "shell.execute_reply": "2023-09-19T23:02:55.266133Z"
    },
    "papermill": {
     "duration": 0.015657,
     "end_time": "2023-09-19T23:02:55.266133",
     "exception": false,
     "start_time": "2023-09-19T23:02:55.250476",
     "status": "completed"
    },
    "tags": []
   },
   "outputs": [],
   "source": [
    "logging.basicConfig(filename='app.log', level=logging.INFO)"
   ]
  },
  {
   "cell_type": "code",
   "execution_count": 5,
   "id": "48cf5e46",
   "metadata": {
    "execution": {
     "iopub.execute_input": "2023-09-19T23:02:55.270178Z",
     "iopub.status.busy": "2023-09-19T23:02:55.270178Z",
     "iopub.status.idle": "2023-09-19T23:02:55.298356Z",
     "shell.execute_reply": "2023-09-19T23:02:55.298356Z"
    },
    "papermill": {
     "duration": 0.028178,
     "end_time": "2023-09-19T23:02:55.298356",
     "exception": false,
     "start_time": "2023-09-19T23:02:55.270178",
     "status": "completed"
    },
    "tags": []
   },
   "outputs": [],
   "source": [
    "def extract_movies(api_key=None, lang='en', num_movies=100, conn=None, drop=False):\n",
    "    \"\"\"\n",
    "    Extracts movies from TheMovieDB API and populates the DuckDB database.\n",
    "\n",
    "    Args:\n",
    "        api_key (str): The API key for accessing TheMovieDB.\n",
    "        lang (str, optional): The language code for movie data. Defaults to 'en'.\n",
    "        num_movies (int, optional): The number of movies to extract. Defaults to 100.\n",
    "        conn: The DuckDB connection object.\n",
    "        drop (bool, optional): Whether to drop the existing table before insertion. Defaults to False.\n",
    "\n",
    "    Returns:\n",
    "        None\n",
    "    \"\"\"\n",
    "    movies = 0\n",
    "    page = 1\n",
    "\n",
    "    # Drop table if drop = True\n",
    "    drop_table(conn, drop=drop, table_name='movies')\n",
    "\n",
    "    while movies < num_movies:\n",
    "        # Update the URL with the new page number\n",
    "        url = f\"https://api.themoviedb.org/3/movie/popular?api_key={api_key}&with_original_language={lang}&page={page}\"\n",
    "\n",
    "        # Make a request\n",
    "        try:\n",
    "            res = requests.get(url)\n",
    "        except requests.exceptions.RequestException as e:\n",
    "            logging.error(f\"An error occurred during the request: {e}\")\n",
    "            break\n",
    "\n",
    "        if res.status_code != 200:\n",
    "            logging.error(f\"Received non-200 status code: {res.status_code}\")\n",
    "            break\n",
    "\n",
    "        # Transform content to JSON\n",
    "        json_data = res.json()\n",
    "\n",
    "        # Initialize or update the database\n",
    "        init_duck_db_movies(conn, json_data, table_name='movies')\n",
    "\n",
    "        # Log progress\n",
    "        movies += len(json_data.get('results', []))\n",
    "        logging.info(f\"Extracted {movies} out of {num_movies} movies.\")\n",
    "\n",
    "        page += 1"
   ]
  },
  {
   "cell_type": "code",
   "execution_count": 6,
   "id": "593d858f",
   "metadata": {
    "execution": {
     "iopub.execute_input": "2023-09-19T23:02:55.298356Z",
     "iopub.status.busy": "2023-09-19T23:02:55.298356Z",
     "iopub.status.idle": "2023-09-19T23:02:55.314029Z",
     "shell.execute_reply": "2023-09-19T23:02:55.314029Z"
    },
    "papermill": {
     "duration": 0.015673,
     "end_time": "2023-09-19T23:02:55.314029",
     "exception": false,
     "start_time": "2023-09-19T23:02:55.298356",
     "status": "completed"
    },
    "tags": []
   },
   "outputs": [],
   "source": [
    "def extract_genre(api_key=None, lang='en', drop=False, conn=None):\n",
    "    \"\"\"\n",
    "    Extracts movie genres from TheMovieDB API and returns the data as a JSON object.\n",
    "\n",
    "    Args:\n",
    "        api_key (str): The API key for accessing TheMovieDB.\n",
    "        lang (str, optional): The language code for genre data. Defaults to 'en'.\n",
    "        conn: The DuckDB connection object.\n",
    "\n",
    "    Returns:\n",
    "        dict: A JSON object containing the API response.\n",
    "    \"\"\"\n",
    "    # Drop table if drop = True\n",
    "    drop_table(conn, drop=drop, table_name='genres')\n",
    "\n",
    "    # Construct URL\n",
    "    url = f\"https://api.themoviedb.org/3/genre/movie/list?api_key={api_key}&with_original_language={lang}\"  # noqa E501\n",
    "    # Make a request\n",
    "    try:\n",
    "        res = requests.get(url)\n",
    "    except requests.exceptions.RequestException as e:\n",
    "        logging.error(\"An error occurred during the request:\", e)\n",
    "        return {}\n",
    "\n",
    "    # Transform content to JSON\n",
    "    json_data = res.json()\n",
    "\n",
    "    # Initialize or update the database\n",
    "    init_duck_db_genres(conn, json_data, table_name='genres')"
   ]
  },
  {
   "cell_type": "code",
   "execution_count": null,
   "id": "3212864c",
   "metadata": {
    "papermill": {
     "duration": 0.0,
     "end_time": "2023-09-19T23:02:55.314029",
     "exception": false,
     "start_time": "2023-09-19T23:02:55.314029",
     "status": "completed"
    },
    "tags": []
   },
   "outputs": [],
   "source": []
  },
  {
   "cell_type": "code",
   "execution_count": 7,
   "id": "d3a7e020",
   "metadata": {
    "execution": {
     "iopub.execute_input": "2023-09-19T23:02:55.329720Z",
     "iopub.status.busy": "2023-09-19T23:02:55.329154Z",
     "iopub.status.idle": "2023-09-19T23:02:55.345599Z",
     "shell.execute_reply": "2023-09-19T23:02:55.345599Z"
    },
    "papermill": {
     "duration": 0.03157,
     "end_time": "2023-09-19T23:02:55.345599",
     "exception": false,
     "start_time": "2023-09-19T23:02:55.314029",
     "status": "completed"
    },
    "tags": []
   },
   "outputs": [],
   "source": [
    "def drop_table(conn, drop=False, table_name=None):\n",
    "    '''\n",
    "    Drops table in DuckDB if it does exist\n",
    "\n",
    "    Args:\n",
    "        conn: The DuckDB connection object.\n",
    "        table_name (str): The name of the table to create or update.\n",
    "        drop (bool, optional): Whether to drop the table if it already exists. Defaults to False.\n",
    "\n",
    "    Returns:\n",
    "        None\n",
    "    '''\n",
    "    # If drop flag is True, drop the existing table\n",
    "    if drop:\n",
    "        conn.execute(f\"DROP TABLE IF EXISTS {table_name}\")\n",
    "        logging.info(f'Sucessfully dropped {table_name}')"
   ]
  },
  {
   "cell_type": "code",
   "execution_count": 8,
   "id": "95a9f341",
   "metadata": {
    "execution": {
     "iopub.execute_input": "2023-09-19T23:02:55.345599Z",
     "iopub.status.busy": "2023-09-19T23:02:55.345599Z",
     "iopub.status.idle": "2023-09-19T23:02:55.361601Z",
     "shell.execute_reply": "2023-09-19T23:02:55.361601Z"
    },
    "papermill": {
     "duration": 0.016002,
     "end_time": "2023-09-19T23:02:55.361601",
     "exception": false,
     "start_time": "2023-09-19T23:02:55.345599",
     "status": "completed"
    },
    "tags": []
   },
   "outputs": [],
   "source": [
    "def write_json_to_temp_file(json_data, json_key):\n",
    "    \"\"\"\n",
    "    Writes the provided JSON data to a temporary file and returns the file's name.\n",
    "\n",
    "    Args:\n",
    "        json_data (dict): The JSON data to write to the file.\n",
    "\n",
    "    Returns:\n",
    "        str: The name of the temporary file containing the JSON data, or None if an error occurs.\n",
    "    \"\"\"\n",
    "    # Write JSON string to a temporary file\n",
    "    try:\n",
    "        with tempfile.NamedTemporaryFile(delete=False, mode='w') as temp_file:\n",
    "            # Get the correct key so that only the results are written to the file\n",
    "            json.dump(json_data[f'{json_key}'], temp_file) \n",
    "            return temp_file.name\n",
    "    except Exception as e:\n",
    "        logging.error(f\"An error occurred while writing the JSON file: {e}\")\n",
    "        return None"
   ]
  },
  {
   "cell_type": "code",
   "execution_count": 9,
   "id": "c3db9c87",
   "metadata": {
    "execution": {
     "iopub.execute_input": "2023-09-19T23:02:55.370109Z",
     "iopub.status.busy": "2023-09-19T23:02:55.370109Z",
     "iopub.status.idle": "2023-09-19T23:02:55.378157Z",
     "shell.execute_reply": "2023-09-19T23:02:55.378157Z"
    },
    "papermill": {
     "duration": 0.016556,
     "end_time": "2023-09-19T23:02:55.378157",
     "exception": false,
     "start_time": "2023-09-19T23:02:55.361601",
     "status": "completed"
    },
    "tags": []
   },
   "outputs": [],
   "source": [
    "def create_table(conn, table_name, temp_file_path):\n",
    "    \"\"\"\n",
    "    Creates a new table in DuckDB if it does not already exist, or inserts data into an existing table.\n",
    "    Optionally drops the table if it already exists.\n",
    "\n",
    "    Args:\n",
    "        conn: The DuckDB connection object.\n",
    "        table_name (str): The name of the table to create or update.\n",
    "        temp_file_path (str): The path to the temporary file containing the JSON data to populate the table.\n",
    "\n",
    "    Returns:\n",
    "        None\n",
    "    \"\"\"\n",
    "    # If table do NOT exists create a new one, else insert data\n",
    "    try:\n",
    "        tables = conn.execute(\"SHOW TABLES;\").fetchall()\n",
    "\n",
    "        if (f\"{table_name}\",) not in tables:\n",
    "            conn.execute(\n",
    "                f\"CREATE TABLE {table_name} AS SELECT * FROM read_json_auto('{temp_file_path}')\")\n",
    "        else:\n",
    "            conn.execute(\n",
    "                f\"INSERT INTO {table_name} SELECT * FROM read_json_auto('{temp_file_path}')\")\n",
    "    except Exception as e:\n",
    "        logging.error(f\"An error occurred while creating the table: {e}\")\n",
    "        return"
   ]
  },
  {
   "cell_type": "code",
   "execution_count": 10,
   "id": "c9f17206",
   "metadata": {
    "execution": {
     "iopub.execute_input": "2023-09-19T23:02:55.378157Z",
     "iopub.status.busy": "2023-09-19T23:02:55.378157Z",
     "iopub.status.idle": "2023-09-19T23:02:55.393955Z",
     "shell.execute_reply": "2023-09-19T23:02:55.393955Z"
    },
    "papermill": {
     "duration": 0.015798,
     "end_time": "2023-09-19T23:02:55.393955",
     "exception": false,
     "start_time": "2023-09-19T23:02:55.378157",
     "status": "completed"
    },
    "tags": []
   },
   "outputs": [],
   "source": [
    "def init_duck_db_movies(conn, json_data=None, table_name='movies'):\n",
    "    '''\n",
    "    Initilizes the 'movies' table and populates it with JSON data\n",
    "\n",
    "    Args:\n",
    "        conn : The DuckDB connection object.\n",
    "        json_data (dict, optional) : The JSON data to populate the table with. If None, data will be extracted\n",
    "        using the extract_movies function. Defaults to None. \n",
    "        table_name (str, optional): The name of the table to initialize. Defaults to 'movies'.\n",
    "\n",
    "    Returns:\n",
    "        None\n",
    "    '''\n",
    "\n",
    "    # Write JSON string to a temporary file\n",
    "    if json_data:\n",
    "        temp_file_path = write_json_to_temp_file(json_data, json_key='results')\n",
    "\n",
    "        # If table do NOT exists create a new one, else insert data\n",
    "        if temp_file_path:\n",
    "            create_table(conn, table_name, temp_file_path)\n",
    "            os.remove(temp_file_path)\n",
    "            logging.info(\n",
    "                f\"Successfully initialized and populated the table {table_name}.\")"
   ]
  },
  {
   "cell_type": "code",
   "execution_count": 11,
   "id": "08006bfd",
   "metadata": {
    "execution": {
     "iopub.execute_input": "2023-09-19T23:02:55.393955Z",
     "iopub.status.busy": "2023-09-19T23:02:55.393955Z",
     "iopub.status.idle": "2023-09-19T23:02:55.409907Z",
     "shell.execute_reply": "2023-09-19T23:02:55.409907Z"
    },
    "papermill": {
     "duration": 0.015952,
     "end_time": "2023-09-19T23:02:55.409907",
     "exception": false,
     "start_time": "2023-09-19T23:02:55.393955",
     "status": "completed"
    },
    "tags": []
   },
   "outputs": [],
   "source": [
    "def init_duck_db_genres(conn, json_data=None, table_name='genres'):\n",
    "    '''\n",
    "    Initilizes the 'genres' table and populates it with JSON data\n",
    "\n",
    "    Args:\n",
    "        conn : The DuckDB connection object.\n",
    "        path (str, optional) : The path to the DuckDB file. Defaults to \"movies_data.duckdb\".\n",
    "        json_data (dict, optional) : The JSON data to populate the table with. If None, data will be extracted\n",
    "        table_name (str, optional): The name of the table to initialize. Defaults to 'genres'.\n",
    "\n",
    "    Returns:\n",
    "        None\n",
    "    '''\n",
    "\n",
    "    # Write JSON string to a temporary file\n",
    "    if json_data:\n",
    "        temp_file_path = write_json_to_temp_file(json_data, json_key='genres')\n",
    "\n",
    "        # If table do NOT exists create a new one, else insert data\n",
    "        if temp_file_path:\n",
    "            create_table(conn, table_name, temp_file_path)\n",
    "            os.remove(temp_file_path)\n",
    "            logging.info(\n",
    "                f\"Successfully initialized and populated the table {table_name}.\")"
   ]
  },
  {
   "cell_type": "code",
   "execution_count": 12,
   "id": "3b15537e",
   "metadata": {
    "execution": {
     "iopub.execute_input": "2023-09-19T23:02:55.409907Z",
     "iopub.status.busy": "2023-09-19T23:02:55.409907Z",
     "iopub.status.idle": "2023-09-19T23:02:55.442180Z",
     "shell.execute_reply": "2023-09-19T23:02:55.441487Z"
    },
    "papermill": {
     "duration": 0.033599,
     "end_time": "2023-09-19T23:02:55.443506",
     "exception": false,
     "start_time": "2023-09-19T23:02:55.409907",
     "status": "completed"
    },
    "tags": []
   },
   "outputs": [],
   "source": [
    "if __name__ == \"__main__\":\n",
    "    # Parameter to get 1000 English movies\n",
    "    language_count = {\"en\": 1000,}\n",
    "\n",
    "    # Load API key from .env file\n",
    "    load_dotenv(\".env\")\n",
    "    api_key = os.getenv('API_KEY')\n",
    "\n",
    "    conn = None\n",
    "\n",
    "    # Initialize connection path\n",
    "    duckdb_file_path = \"movies_data.duckdb\"\n",
    "    try:\n",
    "        conn = duckdb.connect(duckdb_file_path, read_only=False)\n",
    "        logging.info('Connection opened')\n",
    "        \n",
    "        for key in language_count:\n",
    "        # print(key,language_count[key])\n",
    "            print(\"Downloading\", key, end=\": \")\n",
    "            movies = extract_movies(api_key, key, language_count[key],conn,drop=True)  # noqa E501\n",
    "            genres = extract_genre(api_key, key,drop=True, conn=conn)\n",
    "\n",
    "    except Exception as e:\n",
    "        logging.error(f'An error occurred: {e}')\n",
    "\n",
    "    finally:\n",
    "        if conn:\n",
    "            conn.close()\n",
    "            logging.info('Connection closed')"
   ]
  }
 ],
 "metadata": {
  "jupytext": {
   "cell_metadata_filter": "tags,-all",
   "main_language": "python",
   "notebook_metadata_filter": "-all",
   "text_representation": {
    "extension": ".py",
    "format_name": "light"
   }
  },
  "kernelspec": {
   "display_name": "Python 3 (ipykernel)",
   "language": "python",
   "name": "python3"
  },
  "language_info": {
   "codemirror_mode": {
    "name": "ipython",
    "version": 3
   },
   "file_extension": ".py",
   "mimetype": "text/x-python",
   "name": "python",
   "nbconvert_exporter": "python",
   "pygments_lexer": "ipython3",
   "version": "3.10.12"
  },
  "papermill": {
   "duration": 2.503512,
   "end_time": "2023-09-19T23:02:55.673506",
   "exception": null,
   "input_path": "C:\\Users\\magsa\\AppData\\Local\\Temp\\tmpz82unisz.ipynb",
   "output_path": "C:\\Users\\magsa\\Desktop\\365_Data_Sience\\Project\\Movie recommendation system\\mini-projects\\movie-rec-system\\products\\extract-pipeline.ipynb",
   "parameters": {
    "product": {
     "data": "C:\\Users\\magsa\\Desktop\\365_Data_Sience\\Project\\Movie recommendation system\\mini-projects\\movie-rec-system\\movies_data.duckdb",
     "nb": "C:\\Users\\magsa\\Desktop\\365_Data_Sience\\Project\\Movie recommendation system\\mini-projects\\movie-rec-system\\products\\extract-pipeline.ipynb"
    }
   },
   "start_time": "2023-09-19T23:02:53.169994"
  }
 },
 "nbformat": 4,
 "nbformat_minor": 5
}