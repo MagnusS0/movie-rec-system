{
 "cells": [
  {
   "cell_type": "code",
   "execution_count": 1,
   "id": "5ecb2870",
   "metadata": {
    "execution": {
     "iopub.execute_input": "2023-09-22T01:19:22.766026Z",
     "iopub.status.busy": "2023-09-22T01:19:22.750844Z",
     "iopub.status.idle": "2023-09-22T01:19:22.797642Z",
     "shell.execute_reply": "2023-09-22T01:19:22.797642Z"
    },
    "papermill": {
     "duration": 0.046798,
     "end_time": "2023-09-22T01:19:22.797642",
     "exception": false,
     "start_time": "2023-09-22T01:19:22.750844",
     "status": "completed"
    },
    "tags": [
     "parameters"
    ]
   },
   "outputs": [],
   "source": [
    "# declare a list tasks whose products you want to use as inputs\n",
    "upstream = None\n"
   ]
  },
  {
   "cell_type": "code",
   "execution_count": 2,
   "id": "94799bb6",
   "metadata": {
    "execution": {
     "iopub.execute_input": "2023-09-22T01:19:22.844157Z",
     "iopub.status.busy": "2023-09-22T01:19:22.828527Z",
     "iopub.status.idle": "2023-09-22T01:19:22.860091Z",
     "shell.execute_reply": "2023-09-22T01:19:22.860091Z"
    },
    "papermill": {
     "duration": 0.047127,
     "end_time": "2023-09-22T01:19:22.860091",
     "exception": false,
     "start_time": "2023-09-22T01:19:22.812964",
     "status": "completed"
    },
    "tags": [
     "injected-parameters"
    ]
   },
   "outputs": [],
   "source": [
    "# Parameters\n",
    "product = {\"nb\": \"C:\\\\Users\\\\magsa\\\\Desktop\\\\365_Data_Sience\\\\Project\\\\Movie recommendation system\\\\mini-projects\\\\movie-rec-system\\\\products\\\\extract-pipeline.ipynb\", \"data\": \"C:\\\\Users\\\\magsa\\\\Desktop\\\\365_Data_Sience\\\\Project\\\\Movie recommendation system\\\\mini-projects\\\\movie-rec-system\\\\movie_rec_system\\\\etl\\\\movies_data.duckdb\"}\n"
   ]
  },
  {
   "cell_type": "code",
   "execution_count": 3,
   "id": "11dd70cc",
   "metadata": {
    "execution": {
     "iopub.execute_input": "2023-09-22T01:19:22.891088Z",
     "iopub.status.busy": "2023-09-22T01:19:22.891088Z",
     "iopub.status.idle": "2023-09-22T01:19:23.095107Z",
     "shell.execute_reply": "2023-09-22T01:19:23.095107Z"
    },
    "papermill": {
     "duration": 0.219645,
     "end_time": "2023-09-22T01:19:23.095107",
     "exception": false,
     "start_time": "2023-09-22T01:19:22.875462",
     "status": "completed"
    },
    "tags": []
   },
   "outputs": [],
   "source": [
    "import requests\n",
    "from dotenv import load_dotenv\n",
    "import json\n",
    "import tempfile\n",
    "import duckdb\n",
    "import os\n",
    "import logging"
   ]
  },
  {
   "cell_type": "code",
   "execution_count": 4,
   "id": "19c93de4",
   "metadata": {
    "execution": {
     "iopub.execute_input": "2023-09-22T01:19:23.095107Z",
     "iopub.status.busy": "2023-09-22T01:19:23.095107Z",
     "iopub.status.idle": "2023-09-22T01:19:23.126932Z",
     "shell.execute_reply": "2023-09-22T01:19:23.126932Z"
    },
    "papermill": {
     "duration": 0.031825,
     "end_time": "2023-09-22T01:19:23.126932",
     "exception": false,
     "start_time": "2023-09-22T01:19:23.095107",
     "status": "completed"
    },
    "tags": []
   },
   "outputs": [],
   "source": [
    "logging.basicConfig(filename='app.log', level=logging.INFO)"
   ]
  },
  {
   "cell_type": "code",
   "execution_count": 5,
   "id": "8f99a9c2",
   "metadata": {
    "execution": {
     "iopub.execute_input": "2023-09-22T01:19:23.142005Z",
     "iopub.status.busy": "2023-09-22T01:19:23.126932Z",
     "iopub.status.idle": "2023-09-22T01:19:23.159113Z",
     "shell.execute_reply": "2023-09-22T01:19:23.159113Z"
    },
    "papermill": {
     "duration": 0.032181,
     "end_time": "2023-09-22T01:19:23.159113",
     "exception": false,
     "start_time": "2023-09-22T01:19:23.126932",
     "status": "completed"
    },
    "tags": []
   },
   "outputs": [],
   "source": [
    "def extract_movies(api_key=None, lang='en', num_movies=100, conn=None, drop=False):\n",
    "    \"\"\"\n",
    "    Extracts movies from TheMovieDB API and populates the DuckDB database.\n",
    "\n",
    "    Args:\n",
    "        api_key (str): The API key for accessing TheMovieDB.\n",
    "        lang (str, optional): The language code for movie data. Defaults to 'en'.\n",
    "        num_movies (int, optional): The number of movies to extract. Defaults to 100.\n",
    "        conn: The DuckDB connection object.\n",
    "        drop (bool, optional): Whether to drop the existing table before insertion. Defaults to False.\n",
    "\n",
    "    Returns:\n",
    "        None\n",
    "    \"\"\"\n",
    "    movies = 0\n",
    "    page = 1\n",
    "\n",
    "    # Drop table if drop = True\n",
    "    drop_table(conn, drop=drop, table_name='movies')\n",
    "\n",
    "    while movies < num_movies:\n",
    "        # Update the URL with the new page number\n",
    "        url = f\"https://api.themoviedb.org/3/movie/popular?api_key={api_key}&with_original_language={lang}&page={page}\"\n",
    "\n",
    "        # Make a request\n",
    "        try:\n",
    "            res = requests.get(url)\n",
    "        except requests.exceptions.RequestException as e:\n",
    "            logging.error(f\"An error occurred during the request: {e}\")\n",
    "            break\n",
    "\n",
    "        if res.status_code != 200:\n",
    "            logging.error(f\"Received non-200 status code: {res.status_code}\")\n",
    "            break\n",
    "\n",
    "        # Transform content to JSON\n",
    "        json_data = res.json()\n",
    "\n",
    "        # Initialize or update the database\n",
    "        init_duck_db_movies(conn, json_data, table_name='movies')\n",
    "\n",
    "        # Log progress\n",
    "        movies += len(json_data.get('results', []))\n",
    "        logging.info(f\"Extracted {movies} out of {num_movies} movies.\")\n",
    "\n",
    "        page += 1"
   ]
  },
  {
   "cell_type": "code",
   "execution_count": 6,
   "id": "0959254c",
   "metadata": {
    "execution": {
     "iopub.execute_input": "2023-09-22T01:19:23.159113Z",
     "iopub.status.busy": "2023-09-22T01:19:23.159113Z",
     "iopub.status.idle": "2023-09-22T01:19:23.190579Z",
     "shell.execute_reply": "2023-09-22T01:19:23.190579Z"
    },
    "papermill": {
     "duration": 0.031466,
     "end_time": "2023-09-22T01:19:23.190579",
     "exception": false,
     "start_time": "2023-09-22T01:19:23.159113",
     "status": "completed"
    },
    "tags": []
   },
   "outputs": [],
   "source": [
    "def extract_genre(api_key=None, lang='en', drop=False, conn=None):\n",
    "    \"\"\"\n",
    "    Extracts movie genres from TheMovieDB API and returns the data as a JSON object.\n",
    "\n",
    "    Args:\n",
    "        api_key (str): The API key for accessing TheMovieDB.\n",
    "        lang (str, optional): The language code for genre data. Defaults to 'en'.\n",
    "        conn: The DuckDB connection object.\n",
    "\n",
    "    Returns:\n",
    "        dict: A JSON object containing the API response.\n",
    "    \"\"\"\n",
    "    # Drop table if drop = True\n",
    "    drop_table(conn, drop=drop, table_name='genres')\n",
    "\n",
    "    # Construct URL\n",
    "    url = f\"https://api.themoviedb.org/3/genre/movie/list?api_key={api_key}&with_original_language={lang}\"  # noqa E501\n",
    "    # Make a request\n",
    "    try:\n",
    "        res = requests.get(url)\n",
    "    except requests.exceptions.RequestException as e:\n",
    "        logging.error(\"An error occurred during the request:\", e)\n",
    "        return {}\n",
    "\n",
    "    # Transform content to JSON\n",
    "    json_data = res.json()\n",
    "\n",
    "    # Initialize or update the database\n",
    "    init_duck_db_genres(conn, json_data, table_name='genres')"
   ]
  },
  {
   "cell_type": "code",
   "execution_count": null,
   "id": "fa1a4425",
   "metadata": {
    "papermill": {
     "duration": 0.014943,
     "end_time": "2023-09-22T01:19:23.205522",
     "exception": false,
     "start_time": "2023-09-22T01:19:23.190579",
     "status": "completed"
    },
    "tags": []
   },
   "outputs": [],
   "source": []
  },
  {
   "cell_type": "code",
   "execution_count": 7,
   "id": "f851e3f3",
   "metadata": {
    "execution": {
     "iopub.execute_input": "2023-09-22T01:19:23.206531Z",
     "iopub.status.busy": "2023-09-22T01:19:23.206531Z",
     "iopub.status.idle": "2023-09-22T01:19:23.238315Z",
     "shell.execute_reply": "2023-09-22T01:19:23.238315Z"
    },
    "papermill": {
     "duration": 0.031784,
     "end_time": "2023-09-22T01:19:23.238315",
     "exception": false,
     "start_time": "2023-09-22T01:19:23.206531",
     "status": "completed"
    },
    "tags": []
   },
   "outputs": [],
   "source": [
    "def drop_table(conn, drop=False, table_name=None):\n",
    "    '''\n",
    "    Drops table in DuckDB if it does exist\n",
    "\n",
    "    Args:\n",
    "        conn: The DuckDB connection object.\n",
    "        table_name (str): The name of the table to create or update.\n",
    "        drop (bool, optional): Whether to drop the table if it already exists. Defaults to False.\n",
    "\n",
    "    Returns:\n",
    "        None\n",
    "    '''\n",
    "    # If drop flag is True, drop the existing table\n",
    "    if drop:\n",
    "        conn.execute(f\"DROP TABLE IF EXISTS {table_name}\")\n",
    "        logging.info(f'Sucessfully dropped {table_name}')"
   ]
  },
  {
   "cell_type": "code",
   "execution_count": 8,
   "id": "c4e3b243",
   "metadata": {
    "execution": {
     "iopub.execute_input": "2023-09-22T01:19:23.253458Z",
     "iopub.status.busy": "2023-09-22T01:19:23.253458Z",
     "iopub.status.idle": "2023-09-22T01:19:23.269468Z",
     "shell.execute_reply": "2023-09-22T01:19:23.269468Z"
    },
    "papermill": {
     "duration": 0.031153,
     "end_time": "2023-09-22T01:19:23.269468",
     "exception": false,
     "start_time": "2023-09-22T01:19:23.238315",
     "status": "completed"
    },
    "tags": []
   },
   "outputs": [],
   "source": [
    "def write_json_to_temp_file(json_data, json_key):\n",
    "    \"\"\"\n",
    "    Writes the provided JSON data to a temporary file and returns the file's name.\n",
    "\n",
    "    Args:\n",
    "        json_data (dict): The JSON data to write to the file.\n",
    "\n",
    "    Returns:\n",
    "        str: The name of the temporary file containing the JSON data, or None if an error occurs.\n",
    "    \"\"\"\n",
    "    # Write JSON string to a temporary file\n",
    "    try:\n",
    "        with tempfile.NamedTemporaryFile(delete=False, mode='w') as temp_file:\n",
    "            # Get the correct key so that only the results are written to the file\n",
    "            json.dump(json_data[f'{json_key}'], temp_file) \n",
    "            return temp_file.name\n",
    "    except Exception as e:\n",
    "        logging.error(f\"An error occurred while writing the JSON file: {e}\")\n",
    "        return None"
   ]
  },
  {
   "cell_type": "code",
   "execution_count": 9,
   "id": "99c27c20",
   "metadata": {
    "execution": {
     "iopub.execute_input": "2023-09-22T01:19:23.284708Z",
     "iopub.status.busy": "2023-09-22T01:19:23.284708Z",
     "iopub.status.idle": "2023-09-22T01:19:23.300666Z",
     "shell.execute_reply": "2023-09-22T01:19:23.300666Z"
    },
    "papermill": {
     "duration": 0.031198,
     "end_time": "2023-09-22T01:19:23.300666",
     "exception": false,
     "start_time": "2023-09-22T01:19:23.269468",
     "status": "completed"
    },
    "tags": []
   },
   "outputs": [],
   "source": [
    "def create_table(conn, table_name, temp_file_path):\n",
    "    \"\"\"\n",
    "    Creates a new table in DuckDB if it does not already exist, or inserts data into an existing table.\n",
    "    Optionally drops the table if it already exists.\n",
    "\n",
    "    Args:\n",
    "        conn: The DuckDB connection object.\n",
    "        table_name (str): The name of the table to create or update.\n",
    "        temp_file_path (str): The path to the temporary file containing the JSON data to populate the table.\n",
    "\n",
    "    Returns:\n",
    "        None\n",
    "    \"\"\"\n",
    "    # If table do NOT exists create a new one, else insert data\n",
    "    try:\n",
    "        tables = conn.execute(\"SHOW TABLES;\").fetchall()\n",
    "\n",
    "        if (f\"{table_name}\",) not in tables:\n",
    "            conn.execute(\n",
    "                f\"CREATE TABLE {table_name} AS SELECT * FROM read_json_auto('{temp_file_path}')\")\n",
    "        else:\n",
    "            conn.execute(\n",
    "                f\"INSERT INTO {table_name} SELECT * FROM read_json_auto('{temp_file_path}')\")\n",
    "    except Exception as e:\n",
    "        logging.error(f\"An error occurred while creating the table: {e}\")\n",
    "        return"
   ]
  },
  {
   "cell_type": "code",
   "execution_count": 10,
   "id": "07d22cb2",
   "metadata": {
    "execution": {
     "iopub.execute_input": "2023-09-22T01:19:23.315919Z",
     "iopub.status.busy": "2023-09-22T01:19:23.315919Z",
     "iopub.status.idle": "2023-09-22T01:19:23.332367Z",
     "shell.execute_reply": "2023-09-22T01:19:23.332367Z"
    },
    "papermill": {
     "duration": 0.031701,
     "end_time": "2023-09-22T01:19:23.332367",
     "exception": false,
     "start_time": "2023-09-22T01:19:23.300666",
     "status": "completed"
    },
    "tags": []
   },
   "outputs": [],
   "source": [
    "def init_duck_db_movies(conn, json_data=None, table_name='movies'):\n",
    "    '''\n",
    "    Initilizes the 'movies' table and populates it with JSON data\n",
    "\n",
    "    Args:\n",
    "        conn : The DuckDB connection object.\n",
    "        json_data (dict, optional) : The JSON data to populate the table with. If None, data will be extracted\n",
    "        using the extract_movies function. Defaults to None. \n",
    "        table_name (str, optional): The name of the table to initialize. Defaults to 'movies'.\n",
    "\n",
    "    Returns:\n",
    "        None\n",
    "    '''\n",
    "\n",
    "    # Write JSON string to a temporary file\n",
    "    if json_data:\n",
    "        temp_file_path = write_json_to_temp_file(json_data, json_key='results')\n",
    "\n",
    "        # If table do NOT exists create a new one, else insert data\n",
    "        if temp_file_path:\n",
    "            create_table(conn, table_name, temp_file_path)\n",
    "            os.remove(temp_file_path)\n",
    "            logging.info(\n",
    "                f\"Successfully initialized and populated the table {table_name}.\")"
   ]
  },
  {
   "cell_type": "code",
   "execution_count": 11,
   "id": "2dc3f5d9",
   "metadata": {
    "execution": {
     "iopub.execute_input": "2023-09-22T01:19:23.348006Z",
     "iopub.status.busy": "2023-09-22T01:19:23.348006Z",
     "iopub.status.idle": "2023-09-22T01:19:23.363958Z",
     "shell.execute_reply": "2023-09-22T01:19:23.363958Z"
    },
    "papermill": {
     "duration": 0.031591,
     "end_time": "2023-09-22T01:19:23.363958",
     "exception": false,
     "start_time": "2023-09-22T01:19:23.332367",
     "status": "completed"
    },
    "tags": []
   },
   "outputs": [],
   "source": [
    "def init_duck_db_genres(conn, json_data=None, table_name='genres'):\n",
    "    '''\n",
    "    Initilizes the 'genres' table and populates it with JSON data\n",
    "\n",
    "    Args:\n",
    "        conn : The DuckDB connection object.\n",
    "        path (str, optional) : The path to the DuckDB file. Defaults to \"movies_data.duckdb\".\n",
    "        json_data (dict, optional) : The JSON data to populate the table with. If None, data will be extracted\n",
    "        table_name (str, optional): The name of the table to initialize. Defaults to 'genres'.\n",
    "\n",
    "    Returns:\n",
    "        None\n",
    "    '''\n",
    "\n",
    "    # Write JSON string to a temporary file\n",
    "    if json_data:\n",
    "        temp_file_path = write_json_to_temp_file(json_data, json_key='genres')\n",
    "\n",
    "        # If table do NOT exists create a new one, else insert data\n",
    "        if temp_file_path:\n",
    "            create_table(conn, table_name, temp_file_path)\n",
    "            os.remove(temp_file_path)\n",
    "            logging.info(\n",
    "                f\"Successfully initialized and populated the table {table_name}.\")"
   ]
  },
  {
   "cell_type": "code",
   "execution_count": 12,
   "id": "51af31f4",
   "metadata": {
    "execution": {
     "iopub.execute_input": "2023-09-22T01:19:23.379384Z",
     "iopub.status.busy": "2023-09-22T01:19:23.379384Z",
     "iopub.status.idle": "2023-09-22T01:19:53.668557Z",
     "shell.execute_reply": "2023-09-22T01:19:53.668557Z"
    },
    "papermill": {
     "duration": 30.304599,
     "end_time": "2023-09-22T01:19:53.668557",
     "exception": false,
     "start_time": "2023-09-22T01:19:23.363958",
     "status": "completed"
    },
    "tags": []
   },
   "outputs": [
    {
     "name": "stdout",
     "output_type": "stream",
     "text": [
      "Downloading en: "
     ]
    }
   ],
   "source": [
    "if __name__ == \"__main__\":\n",
    "    # Parameter to get 1000 English movies\n",
    "    language_count = {\"en\": 1000,}\n",
    "\n",
    "    # Load API key from .env file\n",
    "    load_dotenv(\".env\")\n",
    "    api_key = os.getenv('API_KEY')\n",
    "\n",
    "    conn = None\n",
    "\n",
    "    # Initialize connection path\n",
    "    duckdb_file_path = \"movie_rec_system/etl/movies_data.duckdb\"\n",
    "    try:\n",
    "        conn = duckdb.connect(duckdb_file_path, read_only=False)\n",
    "        logging.info('Connection opened')\n",
    "        \n",
    "        for key in language_count:\n",
    "        # print(key,language_count[key])\n",
    "            print(\"Downloading\", key, end=\": \")\n",
    "            movies = extract_movies(api_key, key, language_count[key],conn,drop=True)  # noqa E501\n",
    "            genres = extract_genre(api_key, key,drop=True, conn=conn)\n",
    "\n",
    "    except Exception as e:\n",
    "        logging.error(f'An error occurred: {e}')\n",
    "\n",
    "    finally:\n",
    "        if conn:\n",
    "            conn.close()\n",
    "            logging.info('Connection closed')"
   ]
  }
 ],
 "metadata": {
  "jupytext": {
   "cell_metadata_filter": "tags,-all",
   "main_language": "python",
   "notebook_metadata_filter": "-all",
   "text_representation": {
    "extension": ".py",
    "format_name": "light"
   }
  },
  "kernelspec": {
   "display_name": "Python 3 (ipykernel)",
   "language": "python",
   "name": "python3"
  },
  "language_info": {
   "codemirror_mode": {
    "name": "ipython",
    "version": 3
   },
   "file_extension": ".py",
   "mimetype": "text/x-python",
   "name": "python",
   "nbconvert_exporter": "python",
   "pygments_lexer": "ipython3",
   "version": "3.10.12"
  },
  "papermill": {
   "duration": 33.838724,
   "end_time": "2023-09-22T01:19:54.027907",
   "exception": null,
   "input_path": "C:\\Users\\magsa\\AppData\\Local\\Temp\\tmp4r3mlikm.ipynb",
   "output_path": "C:\\Users\\magsa\\Desktop\\365_Data_Sience\\Project\\Movie recommendation system\\mini-projects\\movie-rec-system\\products\\extract-pipeline.ipynb",
   "parameters": {
    "product": {
     "data": "C:\\Users\\magsa\\Desktop\\365_Data_Sience\\Project\\Movie recommendation system\\mini-projects\\movie-rec-system\\movie_rec_system\\etl\\movies_data.duckdb",
     "nb": "C:\\Users\\magsa\\Desktop\\365_Data_Sience\\Project\\Movie recommendation system\\mini-projects\\movie-rec-system\\products\\extract-pipeline.ipynb"
    }
   },
   "start_time": "2023-09-22T01:19:20.189183"
  }
 },
 "nbformat": 4,
 "nbformat_minor": 5
}