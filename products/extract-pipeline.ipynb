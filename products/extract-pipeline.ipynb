{
 "cells": [
  {
   "cell_type": "code",
   "execution_count": 1,
   "id": "1d0eb383",
   "metadata": {
    "execution": {
     "iopub.execute_input": "2023-09-22T13:01:48.210203Z",
     "iopub.status.busy": "2023-09-22T13:01:48.210203Z",
     "iopub.status.idle": "2023-09-22T13:01:48.242931Z",
     "shell.execute_reply": "2023-09-22T13:01:48.241097Z"
    },
    "papermill": {
     "duration": 0.037002,
     "end_time": "2023-09-22T13:01:48.247205",
     "exception": false,
     "start_time": "2023-09-22T13:01:48.210203",
     "status": "completed"
    },
    "tags": [
     "parameters"
    ]
   },
   "outputs": [],
   "source": [
    "# declare a list tasks whose products you want to use as inputs\n",
    "upstream = None\n"
   ]
  },
  {
   "cell_type": "code",
   "execution_count": 2,
   "id": "60dffbf5",
   "metadata": {
    "execution": {
     "iopub.execute_input": "2023-09-22T13:01:48.291926Z",
     "iopub.status.busy": "2023-09-22T13:01:48.290789Z",
     "iopub.status.idle": "2023-09-22T13:01:48.307554Z",
     "shell.execute_reply": "2023-09-22T13:01:48.307554Z"
    },
    "papermill": {
     "duration": 0.026761,
     "end_time": "2023-09-22T13:01:48.307554",
     "exception": false,
     "start_time": "2023-09-22T13:01:48.280793",
     "status": "completed"
    },
    "tags": [
     "injected-parameters"
    ]
   },
   "outputs": [],
   "source": [
    "# Parameters\n",
    "product = {\"nb\": \"C:\\\\Users\\\\magsa\\\\Desktop\\\\365_Data_Sience\\\\Project\\\\Movie recommendation system\\\\mini-projects\\\\movie_rec_system\\\\products\\\\extract-pipeline.ipynb\", \"data\": \"C:\\\\Users\\\\magsa\\\\Desktop\\\\365_Data_Sience\\\\Project\\\\Movie recommendation system\\\\mini-projects\\\\movie_rec_system\\\\movies_data.duckdb\"}\n"
   ]
  },
  {
   "cell_type": "code",
   "execution_count": 3,
   "id": "e169995b",
   "metadata": {
    "execution": {
     "iopub.execute_input": "2023-09-22T13:01:48.307554Z",
     "iopub.status.busy": "2023-09-22T13:01:48.307554Z",
     "iopub.status.idle": "2023-09-22T13:01:48.507774Z",
     "shell.execute_reply": "2023-09-22T13:01:48.507774Z"
    },
    "papermill": {
     "duration": 0.20022,
     "end_time": "2023-09-22T13:01:48.507774",
     "exception": false,
     "start_time": "2023-09-22T13:01:48.307554",
     "status": "completed"
    },
    "tags": []
   },
   "outputs": [],
   "source": [
    "import requests\n",
    "from dotenv import load_dotenv\n",
    "import json\n",
    "import tempfile\n",
    "import duckdb\n",
    "import os\n",
    "import logging"
   ]
  },
  {
   "cell_type": "code",
   "execution_count": 4,
   "id": "a6be9b4d",
   "metadata": {
    "execution": {
     "iopub.execute_input": "2023-09-22T13:01:48.507774Z",
     "iopub.status.busy": "2023-09-22T13:01:48.507774Z",
     "iopub.status.idle": "2023-09-22T13:01:48.539684Z",
     "shell.execute_reply": "2023-09-22T13:01:48.538684Z"
    },
    "papermill": {
     "duration": 0.033872,
     "end_time": "2023-09-22T13:01:48.541646",
     "exception": false,
     "start_time": "2023-09-22T13:01:48.507774",
     "status": "completed"
    },
    "tags": []
   },
   "outputs": [],
   "source": [
    "logging.basicConfig(filename='app.log', level=logging.INFO)"
   ]
  },
  {
   "cell_type": "code",
   "execution_count": 5,
   "id": "7ee2d513",
   "metadata": {
    "execution": {
     "iopub.execute_input": "2023-09-22T13:01:48.542728Z",
     "iopub.status.busy": "2023-09-22T13:01:48.542728Z",
     "iopub.status.idle": "2023-09-22T13:01:48.575286Z",
     "shell.execute_reply": "2023-09-22T13:01:48.573980Z"
    },
    "papermill": {
     "duration": 0.035602,
     "end_time": "2023-09-22T13:01:48.578330",
     "exception": false,
     "start_time": "2023-09-22T13:01:48.542728",
     "status": "completed"
    },
    "tags": []
   },
   "outputs": [],
   "source": [
    "def extract_movies(api_key=None, lang='en', num_movies=100, conn=None, drop=False):\n",
    "    \"\"\"\n",
    "    Extracts movies from TheMovieDB API and populates the DuckDB database.\n",
    "\n",
    "    Args:\n",
    "        api_key (str): The API key for accessing TheMovieDB.\n",
    "        lang (str, optional): The language code for movie data. Defaults to 'en'.\n",
    "        num_movies (int, optional): The number of movies to extract. Defaults to 100.\n",
    "        conn: The DuckDB connection object.\n",
    "        drop (bool, optional): Whether to drop the existing table before insertion. Defaults to False.\n",
    "\n",
    "    Returns:\n",
    "        None\n",
    "    \"\"\"\n",
    "    movies = 0\n",
    "    page = 1\n",
    "\n",
    "    # Drop table if drop = True\n",
    "    drop_table(conn, drop=drop, table_name='movies')\n",
    "\n",
    "    while movies < num_movies:\n",
    "        # Update the URL with the new page number\n",
    "        url = f\"https://api.themoviedb.org/3/movie/popular?api_key={api_key}&with_original_language={lang}&page={page}\"\n",
    "\n",
    "        # Make a request\n",
    "        try:\n",
    "            res = requests.get(url)\n",
    "        except requests.exceptions.RequestException as e:\n",
    "            logging.error(f\"An error occurred during the request: {e}\")\n",
    "            break\n",
    "\n",
    "        if res.status_code != 200:\n",
    "            logging.error(f\"Received non-200 status code: {res.status_code}\")\n",
    "            break\n",
    "\n",
    "        # Transform content to JSON\n",
    "        json_data = res.json()\n",
    "\n",
    "        # Initialize or update the database\n",
    "        init_duck_db_movies(conn, json_data, table_name='movies')\n",
    "\n",
    "        # Log progress\n",
    "        movies += len(json_data.get('results', []))\n",
    "        logging.info(f\"Extracted {movies} out of {num_movies} movies.\")\n",
    "\n",
    "        page += 1"
   ]
  },
  {
   "cell_type": "code",
   "execution_count": 6,
   "id": "941bd1c1",
   "metadata": {
    "execution": {
     "iopub.execute_input": "2023-09-22T13:01:48.588300Z",
     "iopub.status.busy": "2023-09-22T13:01:48.588300Z",
     "iopub.status.idle": "2023-09-22T13:01:48.606063Z",
     "shell.execute_reply": "2023-09-22T13:01:48.606063Z"
    },
    "papermill": {
     "duration": 0.022765,
     "end_time": "2023-09-22T13:01:48.606063",
     "exception": false,
     "start_time": "2023-09-22T13:01:48.583298",
     "status": "completed"
    },
    "tags": []
   },
   "outputs": [],
   "source": [
    "def extract_genre(api_key=None, lang='en', drop=False, conn=None):\n",
    "    \"\"\"\n",
    "    Extracts movie genres from TheMovieDB API and returns the data as a JSON object.\n",
    "\n",
    "    Args:\n",
    "        api_key (str): The API key for accessing TheMovieDB.\n",
    "        lang (str, optional): The language code for genre data. Defaults to 'en'.\n",
    "        conn: The DuckDB connection object.\n",
    "\n",
    "    Returns:\n",
    "        dict: A JSON object containing the API response.\n",
    "    \"\"\"\n",
    "    # Drop table if drop = True\n",
    "    drop_table(conn, drop=drop, table_name='genres')\n",
    "\n",
    "    # Construct URL\n",
    "    url = f\"https://api.themoviedb.org/3/genre/movie/list?api_key={api_key}&with_original_language={lang}\"  # noqa E501\n",
    "    # Make a request\n",
    "    try:\n",
    "        res = requests.get(url)\n",
    "    except requests.exceptions.RequestException as e:\n",
    "        logging.error(\"An error occurred during the request:\", e)\n",
    "        return {}\n",
    "\n",
    "    # Transform content to JSON\n",
    "    json_data = res.json()\n",
    "\n",
    "    # Initialize or update the database\n",
    "    init_duck_db_genres(conn, json_data, table_name='genres')"
   ]
  },
  {
   "cell_type": "code",
   "execution_count": null,
   "id": "fab064bd",
   "metadata": {
    "papermill": {
     "duration": 0.0,
     "end_time": "2023-09-22T13:01:48.606063",
     "exception": false,
     "start_time": "2023-09-22T13:01:48.606063",
     "status": "completed"
    },
    "tags": []
   },
   "outputs": [],
   "source": []
  },
  {
   "cell_type": "code",
   "execution_count": 7,
   "id": "03efd59b",
   "metadata": {
    "execution": {
     "iopub.execute_input": "2023-09-22T13:01:48.621688Z",
     "iopub.status.busy": "2023-09-22T13:01:48.621688Z",
     "iopub.status.idle": "2023-09-22T13:01:48.637788Z",
     "shell.execute_reply": "2023-09-22T13:01:48.636818Z"
    },
    "papermill": {
     "duration": 0.018098,
     "end_time": "2023-09-22T13:01:48.639786",
     "exception": false,
     "start_time": "2023-09-22T13:01:48.621688",
     "status": "completed"
    },
    "tags": []
   },
   "outputs": [],
   "source": [
    "def drop_table(conn, drop=False, table_name=None):\n",
    "    '''\n",
    "    Drops table in DuckDB if it does exist\n",
    "\n",
    "    Args:\n",
    "        conn: The DuckDB connection object.\n",
    "        table_name (str): The name of the table to create or update.\n",
    "        drop (bool, optional): Whether to drop the table if it already exists. Defaults to False.\n",
    "\n",
    "    Returns:\n",
    "        None\n",
    "    '''\n",
    "    # If drop flag is True, drop the existing table\n",
    "    if drop:\n",
    "        conn.execute(f\"DROP TABLE IF EXISTS {table_name}\")\n",
    "        logging.info(f'Sucessfully dropped {table_name}')"
   ]
  },
  {
   "cell_type": "code",
   "execution_count": 8,
   "id": "daea3450",
   "metadata": {
    "execution": {
     "iopub.execute_input": "2023-09-22T13:01:48.644866Z",
     "iopub.status.busy": "2023-09-22T13:01:48.644866Z",
     "iopub.status.idle": "2023-09-22T13:01:48.660493Z",
     "shell.execute_reply": "2023-09-22T13:01:48.660493Z"
    },
    "papermill": {
     "duration": 0.016707,
     "end_time": "2023-09-22T13:01:48.660493",
     "exception": false,
     "start_time": "2023-09-22T13:01:48.643786",
     "status": "completed"
    },
    "tags": []
   },
   "outputs": [],
   "source": [
    "def write_json_to_temp_file(json_data, json_key):\n",
    "    \"\"\"\n",
    "    Writes the provided JSON data to a temporary file and returns the file's name.\n",
    "\n",
    "    Args:\n",
    "        json_data (dict): The JSON data to write to the file.\n",
    "\n",
    "    Returns:\n",
    "        str: The name of the temporary file containing the JSON data, or None if an error occurs.\n",
    "    \"\"\"\n",
    "    # Write JSON string to a temporary file\n",
    "    try:\n",
    "        with tempfile.NamedTemporaryFile(delete=False, mode='w') as temp_file:\n",
    "            # Get the correct key so that only the results are written to the file\n",
    "            json.dump(json_data[f'{json_key}'], temp_file) \n",
    "            return temp_file.name\n",
    "    except Exception as e:\n",
    "        logging.error(f\"An error occurred while writing the JSON file: {e}\")\n",
    "        return None"
   ]
  },
  {
   "cell_type": "code",
   "execution_count": 9,
   "id": "9f5d1e01",
   "metadata": {
    "execution": {
     "iopub.execute_input": "2023-09-22T13:01:48.660493Z",
     "iopub.status.busy": "2023-09-22T13:01:48.660493Z",
     "iopub.status.idle": "2023-09-22T13:01:48.692418Z",
     "shell.execute_reply": "2023-09-22T13:01:48.691452Z"
    },
    "papermill": {
     "duration": 0.032779,
     "end_time": "2023-09-22T13:01:48.693272",
     "exception": false,
     "start_time": "2023-09-22T13:01:48.660493",
     "status": "completed"
    },
    "tags": []
   },
   "outputs": [],
   "source": [
    "def create_table(conn, table_name, temp_file_path):\n",
    "    \"\"\"\n",
    "    Creates a new table in DuckDB if it does not already exist, or inserts data into an existing table.\n",
    "    Optionally drops the table if it already exists.\n",
    "\n",
    "    Args:\n",
    "        conn: The DuckDB connection object.\n",
    "        table_name (str): The name of the table to create or update.\n",
    "        temp_file_path (str): The path to the temporary file containing the JSON data to populate the table.\n",
    "\n",
    "    Returns:\n",
    "        None\n",
    "    \"\"\"\n",
    "    # If table do NOT exists create a new one, else insert data\n",
    "    try:\n",
    "        tables = conn.execute(\"SHOW TABLES;\").fetchall()\n",
    "\n",
    "        if (f\"{table_name}\",) not in tables:\n",
    "            conn.execute(\n",
    "                f\"CREATE TABLE {table_name} AS SELECT * FROM read_json_auto('{temp_file_path}')\")\n",
    "        else:\n",
    "            conn.execute(\n",
    "                f\"INSERT INTO {table_name} SELECT * FROM read_json_auto('{temp_file_path}')\")\n",
    "    except Exception as e:\n",
    "        logging.error(f\"An error occurred while creating the table: {e}\")\n",
    "        return"
   ]
  },
  {
   "cell_type": "code",
   "execution_count": 10,
   "id": "bbc14ff1",
   "metadata": {
    "execution": {
     "iopub.execute_input": "2023-09-22T13:01:48.693272Z",
     "iopub.status.busy": "2023-09-22T13:01:48.693272Z",
     "iopub.status.idle": "2023-09-22T13:01:48.723917Z",
     "shell.execute_reply": "2023-09-22T13:01:48.723917Z"
    },
    "papermill": {
     "duration": 0.034772,
     "end_time": "2023-09-22T13:01:48.728044",
     "exception": false,
     "start_time": "2023-09-22T13:01:48.693272",
     "status": "completed"
    },
    "tags": []
   },
   "outputs": [],
   "source": [
    "def init_duck_db_movies(conn, json_data=None, table_name='movies'):\n",
    "    '''\n",
    "    Initilizes the 'movies' table and populates it with JSON data\n",
    "\n",
    "    Args:\n",
    "        conn : The DuckDB connection object.\n",
    "        json_data (dict, optional) : The JSON data to populate the table with. If None, data will be extracted\n",
    "        using the extract_movies function. Defaults to None. \n",
    "        table_name (str, optional): The name of the table to initialize. Defaults to 'movies'.\n",
    "\n",
    "    Returns:\n",
    "        None\n",
    "    '''\n",
    "\n",
    "    # Write JSON string to a temporary file\n",
    "    if json_data:\n",
    "        temp_file_path = write_json_to_temp_file(json_data, json_key='results')\n",
    "\n",
    "        # If table do NOT exists create a new one, else insert data\n",
    "        if temp_file_path:\n",
    "            create_table(conn, table_name, temp_file_path)\n",
    "            os.remove(temp_file_path)\n",
    "            logging.info(\n",
    "                f\"Successfully initialized and populated the table {table_name}.\")"
   ]
  },
  {
   "cell_type": "code",
   "execution_count": 11,
   "id": "123a99f3",
   "metadata": {
    "execution": {
     "iopub.execute_input": "2023-09-22T13:01:48.740051Z",
     "iopub.status.busy": "2023-09-22T13:01:48.739050Z",
     "iopub.status.idle": "2023-09-22T13:01:48.759803Z",
     "shell.execute_reply": "2023-09-22T13:01:48.759803Z"
    },
    "papermill": {
     "duration": 0.026749,
     "end_time": "2023-09-22T13:01:48.759803",
     "exception": false,
     "start_time": "2023-09-22T13:01:48.733054",
     "status": "completed"
    },
    "tags": []
   },
   "outputs": [],
   "source": [
    "def init_duck_db_genres(conn, json_data=None, table_name='genres'):\n",
    "    '''\n",
    "    Initilizes the 'genres' table and populates it with JSON data\n",
    "\n",
    "    Args:\n",
    "        conn : The DuckDB connection object.\n",
    "        path (str, optional) : The path to the DuckDB file. Defaults to \"movies_data.duckdb\".\n",
    "        json_data (dict, optional) : The JSON data to populate the table with. If None, data will be extracted\n",
    "        table_name (str, optional): The name of the table to initialize. Defaults to 'genres'.\n",
    "\n",
    "    Returns:\n",
    "        None\n",
    "    '''\n",
    "\n",
    "    # Write JSON string to a temporary file\n",
    "    if json_data:\n",
    "        temp_file_path = write_json_to_temp_file(json_data, json_key='genres')\n",
    "\n",
    "        # If table do NOT exists create a new one, else insert data\n",
    "        if temp_file_path:\n",
    "            create_table(conn, table_name, temp_file_path)\n",
    "            os.remove(temp_file_path)\n",
    "            logging.info(\n",
    "                f\"Successfully initialized and populated the table {table_name}.\")"
   ]
  },
  {
   "cell_type": "code",
   "execution_count": 12,
   "id": "20229920",
   "metadata": {
    "execution": {
     "iopub.execute_input": "2023-09-22T13:01:48.759803Z",
     "iopub.status.busy": "2023-09-22T13:01:48.759803Z",
     "iopub.status.idle": "2023-09-22T13:02:19.582055Z",
     "shell.execute_reply": "2023-09-22T13:02:19.582055Z"
    },
    "papermill": {
     "duration": 30.822252,
     "end_time": "2023-09-22T13:02:19.582055",
     "exception": false,
     "start_time": "2023-09-22T13:01:48.759803",
     "status": "completed"
    },
    "tags": []
   },
   "outputs": [
    {
     "name": "stdout",
     "output_type": "stream",
     "text": [
      "Downloading en: "
     ]
    }
   ],
   "source": [
    "if __name__ == \"__main__\":\n",
    "    # Parameter to get 1000 English movies\n",
    "    language_count = {\"en\": 1000,}\n",
    "\n",
    "    # Load API key from .env file\n",
    "    load_dotenv(\".env\")\n",
    "    api_key = os.getenv('API_KEY')\n",
    "\n",
    "    conn = None\n",
    "\n",
    "    # Initialize connection path\n",
    "    duckdb_file_path = \"movies_data.duckdb\"\n",
    "    try:\n",
    "        conn = duckdb.connect(duckdb_file_path, read_only=False)\n",
    "        logging.info('Connection opened')\n",
    "        \n",
    "        for key in language_count:\n",
    "        # print(key,language_count[key])\n",
    "            print(\"Downloading\", key, end=\": \")\n",
    "            movies = extract_movies(api_key, key, language_count[key],conn,drop=True)  # noqa E501\n",
    "            genres = extract_genre(api_key, key,drop=True, conn=conn)\n",
    "\n",
    "    except Exception as e:\n",
    "        logging.error(f'An error occurred: {e}')\n",
    "\n",
    "    finally:\n",
    "        if conn:\n",
    "            conn.close()\n",
    "            logging.info('Connection closed')"
   ]
  }
 ],
 "metadata": {
  "jupytext": {
   "cell_metadata_filter": "tags,-all",
   "main_language": "python",
   "notebook_metadata_filter": "-all",
   "text_representation": {
    "extension": ".py",
    "format_name": "light"
   }
  },
  "kernelspec": {
   "display_name": "Python 3 (ipykernel)",
   "language": "python",
   "name": "python3"
  },
  "language_info": {
   "codemirror_mode": {
    "name": "ipython",
    "version": 3
   },
   "file_extension": ".py",
   "mimetype": "text/x-python",
   "name": "python",
   "nbconvert_exporter": "python",
   "pygments_lexer": "ipython3",
   "version": "3.10.12"
  },
  "papermill": {
   "duration": 33.997354,
   "end_time": "2023-09-22T13:02:19.817529",
   "exception": null,
   "input_path": "C:\\Users\\magsa\\AppData\\Local\\Temp\\tmp89ainh47.ipynb",
   "output_path": "C:\\Users\\magsa\\Desktop\\365_Data_Sience\\Project\\Movie recommendation system\\mini-projects\\movie_rec_system\\products\\extract-pipeline.ipynb",
   "parameters": {
    "product": {
     "data": "C:\\Users\\magsa\\Desktop\\365_Data_Sience\\Project\\Movie recommendation system\\mini-projects\\movie_rec_system\\movies_data.duckdb",
     "nb": "C:\\Users\\magsa\\Desktop\\365_Data_Sience\\Project\\Movie recommendation system\\mini-projects\\movie_rec_system\\products\\extract-pipeline.ipynb"
    }
   },
   "start_time": "2023-09-22T13:01:45.820175"
  }
 },
 "nbformat": 4,
 "nbformat_minor": 5
}