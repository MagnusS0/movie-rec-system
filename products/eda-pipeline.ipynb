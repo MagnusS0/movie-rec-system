{
 "cells": [
  {
   "cell_type": "code",
   "execution_count": 1,
   "id": "14290e46",
   "metadata": {
    "execution": {
     "iopub.execute_input": "2023-09-22T13:02:22.278199Z",
     "iopub.status.busy": "2023-09-22T13:02:22.278199Z",
     "iopub.status.idle": "2023-09-22T13:02:22.325559Z",
     "shell.execute_reply": "2023-09-22T13:02:22.325559Z"
    },
    "papermill": {
     "duration": 0.063534,
     "end_time": "2023-09-22T13:02:22.325559",
     "exception": false,
     "start_time": "2023-09-22T13:02:22.262025",
     "status": "completed"
    },
    "tags": [
     "parameters"
    ]
   },
   "outputs": [],
   "source": [
    "# declare a list tasks whose products you want to use as inputs\n",
    "upstream = None\n"
   ]
  },
  {
   "cell_type": "code",
   "execution_count": 2,
   "id": "2dcd0c7e",
   "metadata": {
    "execution": {
     "iopub.execute_input": "2023-09-22T13:02:22.372031Z",
     "iopub.status.busy": "2023-09-22T13:02:22.372031Z",
     "iopub.status.idle": "2023-09-22T13:02:22.403285Z",
     "shell.execute_reply": "2023-09-22T13:02:22.403285Z"
    },
    "papermill": {
     "duration": 0.046922,
     "end_time": "2023-09-22T13:02:22.403285",
     "exception": false,
     "start_time": "2023-09-22T13:02:22.356363",
     "status": "completed"
    },
    "tags": [
     "injected-parameters"
    ]
   },
   "outputs": [],
   "source": [
    "# Parameters\n",
    "product = {\"nb\": \"C:\\\\Users\\\\magsa\\\\Desktop\\\\365_Data_Sience\\\\Project\\\\Movie recommendation system\\\\mini-projects\\\\movie_rec_system\\\\products\\\\eda-pipeline.ipynb\"}\n"
   ]
  },
  {
   "cell_type": "code",
   "execution_count": 3,
   "id": "8c31f291",
   "metadata": {
    "execution": {
     "iopub.execute_input": "2023-09-22T13:02:22.450168Z",
     "iopub.status.busy": "2023-09-22T13:02:22.450168Z",
     "iopub.status.idle": "2023-09-22T13:02:23.795019Z",
     "shell.execute_reply": "2023-09-22T13:02:23.795019Z"
    },
    "papermill": {
     "duration": 1.360488,
     "end_time": "2023-09-22T13:02:23.795019",
     "exception": false,
     "start_time": "2023-09-22T13:02:22.434531",
     "status": "completed"
    },
    "tags": []
   },
   "outputs": [],
   "source": [
    "import pandas as pd\n",
    "import matplotlib.pyplot as plt"
   ]
  },
  {
   "cell_type": "code",
   "execution_count": 4,
   "id": "2fe8df74",
   "metadata": {
    "execution": {
     "iopub.execute_input": "2023-09-22T13:02:23.810713Z",
     "iopub.status.busy": "2023-09-22T13:02:23.795019Z",
     "iopub.status.idle": "2023-09-22T13:02:24.467045Z",
     "shell.execute_reply": "2023-09-22T13:02:24.467045Z"
    },
    "papermill": {
     "duration": 0.672026,
     "end_time": "2023-09-22T13:02:24.467045",
     "exception": false,
     "start_time": "2023-09-22T13:02:23.795019",
     "status": "completed"
    },
    "tags": []
   },
   "outputs": [
    {
     "data": {
      "text/html": [
       "<span style=\"None\">Found pyproject.toml from &#x27;C:\\Users\\magsa\\Desktop\\365_Data_Sience\\Project\\Movie recommendation system\\mini-projects\\movie_rec_system&#x27;</span>"
      ],
      "text/plain": [
       "Found pyproject.toml from 'C:\\Users\\magsa\\Desktop\\365_Data_Sience\\Project\\Movie recommendation system\\mini-projects\\movie_rec_system'"
      ]
     },
     "metadata": {},
     "output_type": "display_data"
    },
    {
     "data": {
      "text/html": [
       "<span style=\"None\">Settings changed:</span>"
      ],
      "text/plain": [
       "Settings changed:"
      ]
     },
     "metadata": {},
     "output_type": "display_data"
    },
    {
     "data": {
      "text/html": [
       "\n",
       "<table>\n",
       "    <thead>\n",
       "        <tr>\n",
       "            <th>Config</th>\n",
       "            <th>value</th>\n",
       "        </tr>\n",
       "    </thead>\n",
       "    <tbody>\n",
       "        <tr>\n",
       "            <td>autopandas</td>\n",
       "            <td>True</td>\n",
       "        </tr>\n",
       "        <tr>\n",
       "            <td>feedback</td>\n",
       "            <td>True</td>\n",
       "        </tr>\n",
       "        <tr>\n",
       "            <td>displaycon</td>\n",
       "            <td>False</td>\n",
       "        </tr>\n",
       "        <tr>\n",
       "            <td>named_parameters</td>\n",
       "            <td>True</td>\n",
       "        </tr>\n",
       "    </tbody>\n",
       "</table>"
      ],
      "text/plain": [
       "\n",
       "+------------------+-------+\n",
       "|      Config      | value |\n",
       "+------------------+-------+\n",
       "|    autopandas    |  True |\n",
       "|     feedback     |  True |\n",
       "|    displaycon    | False |\n",
       "| named_parameters |  True |\n",
       "+------------------+-------+"
      ]
     },
     "metadata": {},
     "output_type": "display_data"
    }
   ],
   "source": [
    "# Load the SQL magic extension\n",
    "%reload_ext sql\n",
    "# Set display limit\n",
    "%config SqlMagic.displaylimit = 20"
   ]
  },
  {
   "cell_type": "code",
   "execution_count": 5,
   "id": "da79cb64",
   "metadata": {
    "execution": {
     "iopub.execute_input": "2023-09-22T13:02:24.482639Z",
     "iopub.status.busy": "2023-09-22T13:02:24.482639Z",
     "iopub.status.idle": "2023-09-22T13:02:24.654693Z",
     "shell.execute_reply": "2023-09-22T13:02:24.654693Z"
    },
    "papermill": {
     "duration": 0.187648,
     "end_time": "2023-09-22T13:02:24.654693",
     "exception": false,
     "start_time": "2023-09-22T13:02:24.467045",
     "status": "completed"
    },
    "tags": []
   },
   "outputs": [],
   "source": [
    "# Connect to the DuckDB\n",
    "%sql duckdb:///../movies_data.duckdb"
   ]
  },
  {
   "cell_type": "code",
   "execution_count": 6,
   "id": "46e6d3d3",
   "metadata": {
    "execution": {
     "iopub.execute_input": "2023-09-22T13:02:24.670349Z",
     "iopub.status.busy": "2023-09-22T13:02:24.670349Z",
     "iopub.status.idle": "2023-09-22T13:02:24.779878Z",
     "shell.execute_reply": "2023-09-22T13:02:24.779878Z"
    },
    "papermill": {
     "duration": 0.125185,
     "end_time": "2023-09-22T13:02:24.779878",
     "exception": false,
     "start_time": "2023-09-22T13:02:24.654693",
     "status": "completed"
    },
    "tags": []
   },
   "outputs": [
    {
     "data": {
      "text/html": [
       "<div>\n",
       "<style scoped>\n",
       "    .dataframe tbody tr th:only-of-type {\n",
       "        vertical-align: middle;\n",
       "    }\n",
       "\n",
       "    .dataframe tbody tr th {\n",
       "        vertical-align: top;\n",
       "    }\n",
       "\n",
       "    .dataframe thead th {\n",
       "        text-align: right;\n",
       "    }\n",
       "</style>\n",
       "<table border=\"1\" class=\"dataframe\">\n",
       "  <thead>\n",
       "    <tr style=\"text-align: right;\">\n",
       "      <th></th>\n",
       "      <th>column_name</th>\n",
       "      <th>data_type</th>\n",
       "    </tr>\n",
       "  </thead>\n",
       "  <tbody>\n",
       "  </tbody>\n",
       "</table>\n",
       "</div>"
      ],
      "text/plain": [
       "Empty DataFrame\n",
       "Columns: [column_name, data_type]\n",
       "Index: []"
      ]
     },
     "execution_count": 6,
     "metadata": {},
     "output_type": "execute_result"
    }
   ],
   "source": [
    "%%sql\n",
    "SELECT column_name, data_type \n",
    "FROM information_schema.columns \n",
    "WHERE table_name = 'movies';\n"
   ]
  },
  {
   "cell_type": "code",
   "execution_count": 7,
   "id": "b32d6535",
   "metadata": {
    "execution": {
     "iopub.execute_input": "2023-09-22T13:02:24.795500Z",
     "iopub.status.busy": "2023-09-22T13:02:24.795500Z",
     "iopub.status.idle": "2023-09-22T13:02:24.874329Z",
     "shell.execute_reply": "2023-09-22T13:02:24.874329Z"
    },
    "papermill": {
     "duration": 0.094451,
     "end_time": "2023-09-22T13:02:24.874329",
     "exception": false,
     "start_time": "2023-09-22T13:02:24.779878",
     "status": "completed"
    },
    "tags": []
   },
   "outputs": [
    {
     "data": {
      "text/html": [
       "<div>\n",
       "<style scoped>\n",
       "    .dataframe tbody tr th:only-of-type {\n",
       "        vertical-align: middle;\n",
       "    }\n",
       "\n",
       "    .dataframe tbody tr th {\n",
       "        vertical-align: top;\n",
       "    }\n",
       "\n",
       "    .dataframe thead th {\n",
       "        text-align: right;\n",
       "    }\n",
       "</style>\n",
       "<table border=\"1\" class=\"dataframe\">\n",
       "  <thead>\n",
       "    <tr style=\"text-align: right;\">\n",
       "      <th></th>\n",
       "      <th>column_name</th>\n",
       "      <th>data_type</th>\n",
       "    </tr>\n",
       "  </thead>\n",
       "  <tbody>\n",
       "  </tbody>\n",
       "</table>\n",
       "</div>"
      ],
      "text/plain": [
       "Empty DataFrame\n",
       "Columns: [column_name, data_type]\n",
       "Index: []"
      ]
     },
     "execution_count": 7,
     "metadata": {},
     "output_type": "execute_result"
    }
   ],
   "source": [
    "%%sql\n",
    "SELECT column_name, data_type \n",
    "FROM information_schema.columns \n",
    "WHERE table_name = 'genres';"
   ]
  },
  {
   "cell_type": "code",
   "execution_count": 8,
   "id": "b57cb2b8",
   "metadata": {
    "execution": {
     "iopub.execute_input": "2023-09-22T13:02:24.890291Z",
     "iopub.status.busy": "2023-09-22T13:02:24.890291Z",
     "iopub.status.idle": "2023-09-22T13:02:24.985135Z",
     "shell.execute_reply": "2023-09-22T13:02:24.985135Z"
    },
    "papermill": {
     "duration": 0.110806,
     "end_time": "2023-09-22T13:02:24.985135",
     "exception": true,
     "start_time": "2023-09-22T13:02:24.874329",
     "status": "failed"
    },
    "tags": []
   },
   "outputs": [
    {
     "name": "stderr",
     "output_type": "stream",
     "text": [
      "RuntimeError: If using snippets, you may pass the --with argument explicitly.\n",
      "For more details please refer: https://jupysql.ploomber.io/en/latest/compose.html#with-argument\n",
      "\n",
      "\n",
      "Original error message from DB driver:\n",
      "(duckdb.CatalogException) Catalog Error: Table with name movies does not exist!\n",
      "Did you mean \"pg_views\"?\n",
      "[SQL: -- # Change the data type from BIGINT to INT\n",
      "ALTER TABLE movies ALTER COLUMN id TYPE INT;]\n",
      "(Background on this error at: https://sqlalche.me/e/20/f405)\n",
      "\n",
      "If you need help solving this issue, send us a message: https://ploomber.io/community\n"
     ]
    }
   ],
   "source": [
    "%%sql\n",
    "-- # Change the data type from BIGINT to INT\n",
    "ALTER TABLE movies ALTER COLUMN id TYPE INT;\n",
    "ALTER TABLE movies ALTER COLUMN vote_count TYPE INT;\n",
    "ALTER TABLE movies ALTER COLUMN genre_ids TYPE INT[];\n",
    "ALTER TABLE genres ALTER COLUMN id TYPE INT;"
   ]
  },
  {
   "cell_type": "code",
   "execution_count": null,
   "id": "1d2e2a3a",
   "metadata": {
    "papermill": {
     "duration": null,
     "end_time": null,
     "exception": null,
     "start_time": null,
     "status": "pending"
    },
    "tags": []
   },
   "outputs": [],
   "source": [
    "%%sql\n",
    "-- # Drop columns ending with _path\n",
    "ALTER TABLE movies DROP COLUMN backdrop_path;\n",
    "ALTER TABLE movies DROP COLUMN poster_path;"
   ]
  },
  {
   "cell_type": "code",
   "execution_count": null,
   "id": "7dd3add9",
   "metadata": {
    "papermill": {
     "duration": null,
     "end_time": null,
     "exception": null,
     "start_time": null,
     "status": "pending"
    },
    "tags": []
   },
   "outputs": [],
   "source": [
    "%%sql \n",
    "SELECT *\n",
    "FROM movies\n",
    "LIMIT 2;"
   ]
  },
  {
   "cell_type": "code",
   "execution_count": null,
   "id": "54ce0c8a",
   "metadata": {
    "papermill": {
     "duration": null,
     "end_time": null,
     "exception": null,
     "start_time": null,
     "status": "pending"
    },
    "tags": []
   },
   "outputs": [],
   "source": [
    "%%sql \n",
    "SELECT *\n",
    "FROM genres\n",
    "LIMIT 2;"
   ]
  },
  {
   "cell_type": "code",
   "execution_count": null,
   "id": "d68751a6",
   "metadata": {
    "papermill": {
     "duration": null,
     "end_time": null,
     "exception": null,
     "start_time": null,
     "status": "pending"
    },
    "tags": []
   },
   "outputs": [],
   "source": [
    "%%sql \n",
    "WITH ExpandedGenres AS (\n",
    "    SELECT \n",
    "        m.id AS movie_id,\n",
    "        mg.movie_genre_id,\n",
    "        g.name AS genre_name\n",
    "    FROM \n",
    "        (SELECT UNNEST(movies.genre_ids) as movie_genre_id, movies.id FROM movies) AS mg\n",
    "    JOIN \n",
    "        movies m ON mg.id = m.id\n",
    "    JOIN \n",
    "        genres g ON mg.movie_genre_id = g.id\n",
    ")\n",
    "\n",
    "SELECT\n",
    "    movie_id,\n",
    "    STRING_AGG(genre_name, ', ') AS genre_names\n",
    "FROM \n",
    "    ExpandedGenres\n",
    "GROUP BY \n",
    "    movie_id;"
   ]
  },
  {
   "cell_type": "code",
   "execution_count": null,
   "id": "071b3fdd",
   "metadata": {
    "papermill": {
     "duration": null,
     "end_time": null,
     "exception": null,
     "start_time": null,
     "status": "pending"
    },
    "tags": []
   },
   "outputs": [],
   "source": [
    "%%sql --no-execute\n",
    "CREATE TABLE IF NOT EXISTS movie_genre_data AS\n",
    "WITH ExpandedGenres AS (\n",
    "    SELECT \n",
    "        m.id AS movie_id,\n",
    "        mg.movie_genre_id,\n",
    "        g.name AS genre_name\n",
    "    FROM \n",
    "        (SELECT UNNEST(movies.genre_ids) as movie_genre_id, movies.id FROM movies) AS mg\n",
    "    JOIN \n",
    "        movies m ON mg.id = m.id\n",
    "    JOIN \n",
    "        genres g ON mg.movie_genre_id = g.id\n",
    "),\n",
    "genre_names AS (\n",
    "    SELECT\n",
    "    movie_id,\n",
    "    STRING_AGG(genre_name, ', ') AS genre_names\n",
    "FROM \n",
    "    ExpandedGenres\n",
    "GROUP BY \n",
    "    movie_id\n",
    ")\n",
    "SELECT gn.genre_names, m.id, m.original_language,\n",
    "       m.overview, m.popularity, m.release_date,\n",
    "       m.title, m.vote_average, m.vote_count\n",
    "FROM genre_names gn\n",
    "JOIN movies m\n",
    "ON gn.movie_id = m.id\n",
    "WHERE m.vote_count != 0"
   ]
  },
  {
   "cell_type": "code",
   "execution_count": null,
   "id": "0c847ddd",
   "metadata": {
    "papermill": {
     "duration": null,
     "end_time": null,
     "exception": null,
     "start_time": null,
     "status": "pending"
    },
    "tags": []
   },
   "outputs": [],
   "source": [
    "%%sql\n",
    "SELECT *\n",
    "FROM movie_genre_data\n",
    "LIMIT 2;"
   ]
  },
  {
   "cell_type": "markdown",
   "id": "d60558f9",
   "metadata": {
    "papermill": {
     "duration": null,
     "end_time": null,
     "exception": null,
     "start_time": null,
     "status": "pending"
    },
    "tags": []
   },
   "source": [
    "### What are the most popular genres? "
   ]
  },
  {
   "cell_type": "code",
   "execution_count": null,
   "id": "c41552ed",
   "metadata": {
    "papermill": {
     "duration": null,
     "end_time": null,
     "exception": null,
     "start_time": null,
     "status": "pending"
    },
    "tags": []
   },
   "outputs": [],
   "source": [
    "%%sql --save genre_pop --no-execute\n",
    "WITH ExpandedGenres AS (\n",
    "    SELECT \n",
    "        m.id AS movie_id,\n",
    "        mg.movie_genre_id,\n",
    "        g.name AS genre_name\n",
    "    FROM \n",
    "        (SELECT UNNEST(movies.genre_ids) as movie_genre_id, movies.id FROM movies) AS mg\n",
    "    JOIN \n",
    "        movies m ON mg.id = m.id\n",
    "    JOIN \n",
    "        genres g ON mg.movie_genre_id = g.id\n",
    ")\n",
    "SELECT\n",
    "genre_name, \n",
    "SUM(m.popularity) AS genre_popularity\n",
    "FROM ExpandedGenres\n",
    "JOIN movies m\n",
    "ON ExpandedGenres.movie_id = m.id\n",
    "GROUP BY genre_name\n",
    "ORDER BY genre_popularity DESC;\n"
   ]
  },
  {
   "cell_type": "code",
   "execution_count": null,
   "id": "a72d2221",
   "metadata": {
    "papermill": {
     "duration": null,
     "end_time": null,
     "exception": null,
     "start_time": null,
     "status": "pending"
    },
    "tags": []
   },
   "outputs": [],
   "source": [
    "%sqlplot bar --table genre_pop --column genre_name genre_popularity --orient h"
   ]
  },
  {
   "cell_type": "markdown",
   "id": "0eb73e8b",
   "metadata": {
    "papermill": {
     "duration": null,
     "end_time": null,
     "exception": null,
     "start_time": null,
     "status": "pending"
    },
    "tags": []
   },
   "source": [
    "### What are the most popular movies?"
   ]
  },
  {
   "cell_type": "code",
   "execution_count": null,
   "id": "a4ecf307",
   "metadata": {
    "papermill": {
     "duration": null,
     "end_time": null,
     "exception": null,
     "start_time": null,
     "status": "pending"
    },
    "tags": []
   },
   "outputs": [],
   "source": [
    "%%sql --save top10 --no-execute\n",
    "SELECT title, popularity\n",
    "FROM movies\n",
    "ORDER BY popularity DESC\n",
    "LIMIT 10;"
   ]
  },
  {
   "cell_type": "code",
   "execution_count": null,
   "id": "0492319e",
   "metadata": {
    "papermill": {
     "duration": null,
     "end_time": null,
     "exception": null,
     "start_time": null,
     "status": "pending"
    },
    "tags": []
   },
   "outputs": [],
   "source": [
    "%sqlplot bar --table top10 --column title popularity --orient h"
   ]
  },
  {
   "cell_type": "markdown",
   "id": "c48588df",
   "metadata": {
    "papermill": {
     "duration": null,
     "end_time": null,
     "exception": null,
     "start_time": null,
     "status": "pending"
    },
    "tags": []
   },
   "source": [
    "### What are the most popular movies by genre?"
   ]
  },
  {
   "cell_type": "code",
   "execution_count": null,
   "id": "3c9fb218",
   "metadata": {
    "papermill": {
     "duration": null,
     "end_time": null,
     "exception": null,
     "start_time": null,
     "status": "pending"
    },
    "tags": []
   },
   "outputs": [],
   "source": [
    "%%sql --save top10_genre --no-execute\n",
    "WITH ExpandedGenres AS (\n",
    "    SELECT \n",
    "        m.id AS movie_id,\n",
    "        mg.movie_genre_id,\n",
    "        g.name AS genre_name\n",
    "    FROM \n",
    "        (SELECT UNNEST(movies.genre_ids) as movie_genre_id, movies.id FROM movies) AS mg\n",
    "    JOIN \n",
    "        movies m ON mg.id = m.id\n",
    "    JOIN \n",
    "        genres g ON mg.movie_genre_id = g.id\n",
    "),\n",
    "RankedMovies AS (\n",
    "    SELECT \n",
    "        m.title,\n",
    "        eg.genre_name,\n",
    "        m.popularity,\n",
    "        ROW_NUMBER() OVER (PARTITION BY eg.genre_name ORDER BY m.popularity DESC) AS rn\n",
    "    FROM movies m\n",
    "    JOIN ExpandedGenres eg ON m.id = eg.movie_id\n",
    ")\n",
    "SELECT \n",
    "    title, \n",
    "    genre_name, \n",
    "    popularity\n",
    "FROM RankedMovies\n",
    "WHERE rn = 1\n",
    "ORDER BY popularity DESC\n",
    "LIMIT 10;\n"
   ]
  },
  {
   "cell_type": "code",
   "execution_count": null,
   "id": "52a7bf89",
   "metadata": {
    "papermill": {
     "duration": null,
     "end_time": null,
     "exception": null,
     "start_time": null,
     "status": "pending"
    },
    "tags": []
   },
   "outputs": [],
   "source": [
    "result = %sql SELECT * FROM top10_genre\n",
    "import seaborn as sns\n",
    "import matplotlib.pyplot as plt\n",
    "\n",
    "# Assuming top10_genre is the DataFrame saved from your SQL query\n",
    "sns.barplot(data=result, x='popularity', y='title', hue='genre_name', orient='h')\n",
    "plt.title('Top 10 Popular Movies by Genre')\n",
    "plt.legend(title='Genre Name', bbox_to_anchor=(1.05, 1), loc='upper left')\n",
    "plt.show()"
   ]
  },
  {
   "cell_type": "markdown",
   "id": "65a7c8b1",
   "metadata": {
    "papermill": {
     "duration": null,
     "end_time": null,
     "exception": null,
     "start_time": null,
     "status": "pending"
    },
    "tags": []
   },
   "source": [
    " ### What are the most popular movies by decade?"
   ]
  },
  {
   "cell_type": "code",
   "execution_count": null,
   "id": "d05bb354",
   "metadata": {
    "papermill": {
     "duration": null,
     "end_time": null,
     "exception": null,
     "start_time": null,
     "status": "pending"
    },
    "tags": []
   },
   "outputs": [],
   "source": [
    "%%sql --save top_decade --no-execute\n",
    "WITH RankedMovies AS (\n",
    "    SELECT \n",
    "        FLOOR(YEAR(release_date) / 10) * 10 AS decade,\n",
    "        title,\n",
    "        popularity,\n",
    "        RANK() OVER (PARTITION BY FLOOR(YEAR(release_date) / 10) * 10 ORDER BY popularity DESC) AS rank_in_decade\n",
    "    FROM movie_genre_data\n",
    ")\n",
    "SELECT \n",
    "    decade,\n",
    "    title,\n",
    "    popularity,\n",
    "    rank_in_decade\n",
    "FROM RankedMovies\n",
    "WHERE rank_in_decade <= 2  -- adjust this to get the top N movies in each decade\n",
    "ORDER BY decade, rank_in_decade;\n",
    "\n"
   ]
  },
  {
   "cell_type": "code",
   "execution_count": null,
   "id": "d0aace34",
   "metadata": {
    "papermill": {
     "duration": null,
     "end_time": null,
     "exception": null,
     "start_time": null,
     "status": "pending"
    },
    "tags": []
   },
   "outputs": [],
   "source": [
    "result = %sql SELECT * FROM top_decade\n",
    "import seaborn as sns\n",
    "import matplotlib.pyplot as plt\n",
    "\n",
    "# let us plot the top 2 movies in each decade by popularity putting them side by side in a bar chart, with no hue\n",
    "plt.figure(figsize=(15, 8))\n",
    "sns.barplot(data=result, x='decade', y='popularity',hue='title', orient='v')\n",
    "plt.yscale('log')  # log scale for better visualization\n",
    "plt.title('Top 2 Movies in Each Decade by Popularity')\n",
    "plt.legend(title='Movie Title', bbox_to_anchor=(1.05, 1), loc='upper left')\n",
    "plt.show()\n",
    "\n"
   ]
  }
 ],
 "metadata": {
  "kernelspec": {
   "display_name": "Python 3 (ipykernel)",
   "language": "python",
   "name": "python3"
  },
  "language_info": {
   "codemirror_mode": {
    "name": "ipython",
    "version": 3
   },
   "file_extension": ".py",
   "mimetype": "text/x-python",
   "name": "python",
   "nbconvert_exporter": "python",
   "pygments_lexer": "ipython3",
   "version": "3.10.12"
  },
  "papermill": {
   "duration": 6.137994,
   "end_time": "2023-09-22T13:02:26.002913",
   "exception": true,
   "input_path": "C:\\Users\\magsa\\AppData\\Local\\Temp\\tmpfl795i8d.ipynb",
   "output_path": "C:\\Users\\magsa\\Desktop\\365_Data_Sience\\Project\\Movie recommendation system\\mini-projects\\movie_rec_system\\products\\eda-pipeline.ipynb",
   "parameters": {
    "product": {
     "nb": "C:\\Users\\magsa\\Desktop\\365_Data_Sience\\Project\\Movie recommendation system\\mini-projects\\movie_rec_system\\products\\eda-pipeline.ipynb"
    }
   },
   "start_time": "2023-09-22T13:02:19.864919"
  }
 },
 "nbformat": 4,
 "nbformat_minor": 5
}